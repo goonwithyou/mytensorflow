{
 "cells": [
  {
   "cell_type": "markdown",
   "metadata": {},
   "source": [
    "## FLAGS by tensorflow\n",
    "用于定义终端运行，接收参数"
   ]
  },
  {
   "cell_type": "code",
   "execution_count": null,
   "metadata": {},
   "outputs": [],
   "source": [
    "import tensorflow as tf\n",
    "\n",
    "FLAGS = tf.app.flags.FLAGS\n",
    "\n",
    "# tf.app.flasg.DEFINE(parser, name, default, help)\n",
    "tf.app.flags.DEFINE_integer('batch_size', 128, \"\"\"help\"\"\")\n",
    "tf.app.flags.DEFINE_string('data_dir', '/tmp/', \"\"\"help\"\"\")\n",
    "tf.app.flags.DEFINE_boolean('use_fp16', False, \"\"\"help\"\"\")"
   ]
  },
  {
   "cell_type": "markdown",
   "metadata": {},
   "source": [
    "## maybe_download_and_extract\n",
    "下载或提取已有数据"
   ]
  },
  {
   "cell_type": "code",
   "execution_count": null,
   "metadata": {},
   "outputs": [],
   "source": [
    "import os\n",
    "import sys\n",
    "import tarfile\n",
    "\n",
    "from six.moves import urllib\n",
    "\n",
    "def maybe_download_and_extract():\n",
    "    dest_directory = FLAGS.data_dir\n",
    "    if not os.path.exists(dest_directory):\n",
    "        os.makedirs(dest_directory)\n",
    "    filename = DATA_URL.split(os.sep)[-1]\n",
    "    filepath = os.path.join(dest_directory, filename)\n",
    "    if not os.path.exists(filepath):\n",
    "        # 定义下载进度提示信息\n",
    "        def _progress(count, block_size, total_size):\n",
    "            sys.stdout.write('\\r>> Downloading %s %.1f%%' % (filename, \n",
    "                float(count * block_size) / float(total_size) * 100))\n",
    "            sys.stdout.flush()\n",
    "        \n",
    "        filepath, _ = urllib.request.urlretrieve(DATA_URL, filepath, _progress)\n",
    "        print()\n",
    "        statinfo = os.stat(filepath)\n",
    "        print('Successfully downloaded', filename, statinfo.st_size, 'bytes.')\n",
    "    extracted_dir_path = os.path.join(dest_directory, 'cifar-10-batches-bin')\n",
    "    if not os.path.exists(extracted_dir_path):\n",
    "        tarfile.open(filepath, 'r:gz').extractall(dest_directory)"
   ]
  },
  {
   "cell_type": "code",
   "execution_count": null,
   "metadata": {},
   "outputs": [],
   "source": []
  },
  {
   "cell_type": "markdown",
   "metadata": {},
   "source": [
    "1. 获取数据\n",
    "2. 训练\n",
    "    - 获取image，label,batch形式\n",
    "        - 创建文件队列\n",
    "        - 创建reader\n",
    "        - generator and batch"
   ]
  },
  {
   "cell_type": "code",
   "execution_count": null,
   "metadata": {},
   "outputs": [],
   "source": [
    "def read_cifia10(filename_queue):\n",
    "    \"\"\"\n",
    "    1. 创建reader，tf.FixedLengthRecordReader(record_bytes)\n",
    "    2. key, value = reader.read(filename_queue)\n",
    "    3. tf.decode_raw(value, dtpye)把string tensor 转成指定格式\n",
    "    4. tf.cast()\n",
    "    5. tf.strided_slice()\n",
    "    6. tf.transpose()\n",
    "    \n",
    "    tf.train.shuffle_batch()\n",
    "    \"\"\""
   ]
  }
 ],
 "metadata": {
  "kernelspec": {
   "display_name": "Python [conda env:tensorflow]",
   "language": "python",
   "name": "conda-env-tensorflow-py"
  },
  "language_info": {
   "codemirror_mode": {
    "name": "ipython",
    "version": 3
   },
   "file_extension": ".py",
   "mimetype": "text/x-python",
   "name": "python",
   "nbconvert_exporter": "python",
   "pygments_lexer": "ipython3",
   "version": "3.6.2"
  }
 },
 "nbformat": 4,
 "nbformat_minor": 2
}
