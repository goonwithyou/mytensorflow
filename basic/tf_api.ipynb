{
 "cells": [
  {
   "cell_type": "markdown",
   "metadata": {},
   "source": [
    "<center><h1>API Guides</h1></center>"
   ]
  },
  {
   "cell_type": "markdown",
   "metadata": {},
   "source": [
    "- [Inputs and Readers](#Inputs-and-Readers)\n",
    "- [Neural Network](#Neural-Network)"
   ]
  },
  {
   "cell_type": "markdown",
   "metadata": {},
   "source": [
    "# Inputs and Readers\n",
    "---\n",
    "\n",
    "[TOC]\n",
    "\n",
    "## Placeholders\n",
    "---\n",
    "- tf.placeholder\n",
    "- tf.placeholder_with_default\n",
    "- tf.sparse_placeholder\n",
    "\n",
    "## Readers\n",
    "---\n",
    "- tf.ReaderBase\n",
    "- tf.TextLineReader\n",
    "- tf.WholeFileReader\n",
    "- tf.IdentityReader\n",
    "- tf.TFRecordReader\n",
    "- tf.FixedLengthRecordReader\n",
    "\n",
    "## Converting\n",
    "---\n",
    "[detail](#reading_data)\n",
    "\n",
    "- tf.decode_csv\n",
    "- tf.decode_raw\n",
    "\n",
    "### Example protocol buffer\n",
    "\n",
    "[detail](#standard-tensorflow-format)\n",
    "\n",
    "- tf.VarLenFeature\n",
    "- tf.FixedLenFeature\n",
    "- tf.FixedLenSequenceFeature\n",
    "- tf.SparseFeature\n",
    "- tf.parse_example\n",
    "- tf.parse_single_example\n",
    "- tf.parse_tensor\n",
    "- tf.decode_json_example\n",
    "\n",
    "## Queues\n",
    "---\n",
    "- tf.QueueBase\n",
    "- tf.FIFOQueue\n",
    "- tf.PaddingFIFOQueue\n",
    "- tf.RandomShuffleQueue\n",
    "- tf.PriorityQueue\n",
    "\n",
    "## Conditional Accumulators\n",
    "---\n",
    "- tf.ConditionalAccumulatorBase\n",
    "- tf.ConditionalAccumulator\n",
    "- tf.SparseConditionalAccumulator\n",
    "\n",
    "## Dealing with the filesystem\n",
    "---\n",
    "- tf.matching_files\n",
    "- tf.read_file\n",
    "- weite_file\n",
    "\n",
    "## Input pipeline\n",
    "---\n",
    "### Beginning of an input pipeline\n",
    "\n",
    "- tf.train.match_filenames_once\n",
    "- tf.train.limit_epochs\n",
    "- tf.train.input_producer\n",
    "- tf.train.range_input_producer\n",
    "- tf.train.slice_input_producer\n",
    "- tf.train.string_input_producer\n",
    "\n",
    "### Batching at the end of an input pipeline\n",
    "\n",
    "- tf.train.batch\n",
    "- tf.train.maybe_batch\n",
    "- tf.train.batch_join\n",
    "- tf.train.maybe_batch_join\n",
    "- tf.train.shuffle_batch\n",
    "- tf.train.maybe_shuffle_batch\n",
    "- tf.train.shuffle_batch_join\n",
    "- tf.train.maybe_shuffle_batch_join"
   ]
  },
  {
   "cell_type": "markdown",
   "metadata": {},
   "source": [
    "<hr style=\"height:3px\"/>"
   ]
  },
  {
   "cell_type": "markdown",
   "metadata": {},
   "source": [
    "# Neural Network\n",
    "---\n",
    "[TOC]\n",
    "\n",
    "## Activation Functions\n",
    "---\n",
    "- tf.nn.relu\n",
    "- tf.nn.relu6\n",
    "- tf.nn.crelu\n",
    "- tf.nn.elu\n",
    "- tf.nn.selu\n",
    "- tf.nn.softplus\n",
    "- tf.nn.softsign\n",
    "- tf.nn.dropout\n",
    "- tf.nn.bias_add\n",
    "- tf.nn.tf.sigmoid\n",
    "- tf.nn.tanh\n",
    "\n",
    "## Convolution\n",
    "---\n",
    "When use `SAME`,if the pad_height is 5, we will pad 2 at the\n",
    "top and 3 at the bottom.\n",
    "\n",
    "For the `VALID`:no padding is used;\n",
    "```python\n",
    "out_height = ceil(float(in_height - filter_height + 1) / float(strides[1]))\n",
    "```\n",
    "\n",
    "- tf.nn.convolution\n",
    "- tf.nn.conv2d\n",
    "- tf.nn.depthwise_conv2d\n",
    "- tf.nn.depthwise_conv2d_native\n",
    "- tf.nn.separable_conv2d\n",
    "- tf.nn.atrous_conv2d\n",
    "- tf.nn.atrous_conv2d_transpose\n",
    "- tf.nn.conv2d_transpose\n",
    "- tf.nn.conv1d\n",
    "- tf.nn.conv3d\n",
    "- tf.nn.conv2d_backprop_filter\n",
    "- tf.nn.conv2d_backprop_input\n",
    "- tf.nn.conv3d_backprop_filter_v2\n",
    "- tf.nn.depthwise_conv2d_native_backprop_filter\n",
    "- tf.nn.depthwise_conv2d_native_backprop_input\n",
    "\n",
    "## Pooling\n",
    "---\n",
    "- tf.nn.avg_pool\n",
    "- tf.nn.max_pool\n",
    "- tf.nn.max_pool_with_argmax\n",
    "- tf.nn.avg_pool3d\n",
    "- tf.nn.max_pool3d\n",
    "- tf.nn.fractional_avg_pool\n",
    "- tf.nn.fractional_max_pool\n",
    "- tf.nn.pool\n",
    "\n",
    "## Morphological filtering\n",
    "---\n",
    "非线性滤波器\n",
    "- tf.nn.dilation2d\n",
    "- tf.nn.erosion2d\n",
    "- tf.nn.with_space_to_batch\n",
    "\n",
    "## Normalization\n",
    "---\n",
    "防止饱和神经元的出现\n",
    "- tf.nn.l2_normalize\n",
    "- tf.nn.local_response_normalization\n",
    "- tf.nn.sufficient_statistics\n",
    "- tf.nn.normalize_moments\n",
    "- tf.nn.moments\n",
    "- tf.nn.weighted_moments\n",
    "- tf.nn.fused_batch_norm\n",
    "- tf.nn.batch_normalization\n",
    "- tf.nn.batch_norm_with_global_normalization\n",
    "\n",
    "## Losses\n",
    "---\n",
    "防止过拟合\n",
    "- tf.nn.l2_loss\n",
    "- tf.nn.log_poisson_loss\n",
    "\n",
    "## Classification\n",
    "---\n",
    "- tf.nn.sigmoid_cross_entropy_with_logits\n",
    "- tf.nn.softmax\n",
    "- tf.nn.log_softmax\n",
    "- tf.nn.softmax_cross_entropy_with_logits\n",
    "- tf.nn.softmax_cross_entropy_with_logits_v2\n",
    "- tf.nn.sparse_softmax_cross_entropy_with_logits\n",
    "- tf.nn.weighted_cross_entropy_with_logits\n",
    "\n",
    "## Embeddings\n",
    "---\n",
    "- tf.nn.embedding_lookup\n",
    "- tf.nn.embedding_lookup_sparse\n",
    "\n",
    "## Recurrent Neural Networks\n",
    "---\n",
    "- tf.nn.dynamic_rnn\n",
    "- tf.nn.bidirectional_dynamic_rnn\n",
    "- tf.nn.raw_rnn\n",
    "\n",
    "## Connectionist Temporal Classification(CTC)\n",
    "---\n",
    "- tf.nn.ctc_loss\n",
    "- tf.nn.ctc_greedy_decoder\n",
    "- tf.nn.ctc_beam_search_decoder\n",
    "\n",
    "## Evaluation\n",
    "--\n",
    "- tf.nn.top_k\n",
    "- tf.nn.in_top_k\n",
    "\n",
    "## Candidate Sampling\n",
    "---\n",
    "### Sampled losses Functions\n",
    "- tf.nn.nce_loss\n",
    "- tf.nn.sampled_softmax_loss\n",
    "\n",
    "### Candidate Samples\n",
    "- tf.nn.uniform_candidate_sampler\n",
    "- tf.nn.log_uniform_candidate_sampler\n",
    "- tf.nn.learned_unigram_candidate_sampler\n",
    "- tf.nn.fixed_unigram_candidate_sampler\n",
    "\n",
    "### Miscellaneous candidate sampling utilities\n",
    "- tf.nn.computer_accidental_hits\n",
    "\n",
    "### Quantization ops\n",
    "- tf.nn.quantized_conv2d\n",
    "- tf.nn.quantized_relu_x\n",
    "- tf.nn.quantized_max_pool\n",
    "- tf.nn.quantized_avg_pool\n",
    "\n",
    "## Notes on SAME Convolution Padding\n",
    "---\n",
    "### Final expression"
   ]
  },
  {
   "cell_type": "markdown",
   "metadata": {},
   "source": [
    "<hr style=\"height:3px\"/>"
   ]
  },
  {
   "cell_type": "markdown",
   "metadata": {},
   "source": [
    "# Tensor Transformations"
   ]
  },
  {
   "cell_type": "markdown",
   "metadata": {},
   "source": [
    "<hr style=\"height:3px\"/>"
   ]
  },
  {
   "cell_type": "markdown",
   "metadata": {},
   "source": [
    "<hr style=\"height:3px\"/>"
   ]
  },
  {
   "cell_type": "markdown",
   "metadata": {},
   "source": [
    "<hr style=\"height:3px\"/>"
   ]
  },
  {
   "cell_type": "markdown",
   "metadata": {},
   "source": [
    "<hr style=\"height:3px\"/>"
   ]
  },
  {
   "cell_type": "markdown",
   "metadata": {},
   "source": [
    "<hr style=\"height:3px\"/>"
   ]
  },
  {
   "cell_type": "markdown",
   "metadata": {},
   "source": [
    "<hr style=\"height:3px\"/>"
   ]
  },
  {
   "cell_type": "markdown",
   "metadata": {},
   "source": [
    "<hr style=\"height:3px\"/>"
   ]
  },
  {
   "cell_type": "markdown",
   "metadata": {},
   "source": [
    "<hr style=\"height:3px\"/>"
   ]
  },
  {
   "cell_type": "markdown",
   "metadata": {},
   "source": [
    "<hr style=\"height:3px\"/>"
   ]
  }
 ],
 "metadata": {
  "kernelspec": {
   "display_name": "Python [conda env:tensorflow]",
   "language": "python",
   "name": "conda-env-tensorflow-py"
  },
  "language_info": {
   "codemirror_mode": {
    "name": "ipython",
    "version": 3
   },
   "file_extension": ".py",
   "mimetype": "text/x-python",
   "name": "python",
   "nbconvert_exporter": "python",
   "pygments_lexer": "ipython3",
   "version": "3.6.2"
  }
 },
 "nbformat": 4,
 "nbformat_minor": 2
}
