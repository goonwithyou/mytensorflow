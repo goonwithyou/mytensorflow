{
 "cells": [
  {
   "cell_type": "markdown",
   "metadata": {},
   "source": [
    "<center><h1>API Guides</h1></center>"
   ]
  },
  {
   "cell_type": "markdown",
   "metadata": {},
   "source": [
    "列举了tensorflow中出现的API，不做具体解释，可以作为内容回顾提纲，对存在的方法有个认识。具体使用方法，可以单独查看。"
   ]
  },
  {
   "cell_type": "markdown",
   "metadata": {},
   "source": [
    "- [Inputs and Readers](#Inputs-and-Readers)\n",
    "- [Neural Network](#Neural-Network)"
   ]
  },
  {
   "cell_type": "markdown",
   "metadata": {},
   "source": [
    "# Inputs and Readers\n",
    "---\n",
    "\n",
    "## Placeholders\n",
    "---\n",
    "- tf.placeholder\n",
    "- tf.placeholder_with_default\n",
    "- tf.sparse_placeholder\n",
    "\n",
    "## Readers\n",
    "---\n",
    "- tf.ReaderBase\n",
    "- tf.TextLineReader\n",
    "- tf.WholeFileReader\n",
    "- tf.IdentityReader\n",
    "- tf.TFRecordReader\n",
    "- tf.FixedLengthRecordReader\n",
    "\n",
    "## Converting\n",
    "---\n",
    "[detail](#reading_data)\n",
    "\n",
    "- tf.decode_csv\n",
    "- tf.decode_raw\n",
    "\n",
    "### Example protocol buffer\n",
    "\n",
    "[detail](#standard-tensorflow-format)\n",
    "\n",
    "- tf.VarLenFeature\n",
    "- tf.FixedLenFeature\n",
    "- tf.FixedLenSequenceFeature\n",
    "- tf.SparseFeature\n",
    "- tf.parse_example\n",
    "- tf.parse_single_example\n",
    "- tf.parse_tensor\n",
    "- tf.decode_json_example\n",
    "\n",
    "## Queues\n",
    "---\n",
    "- tf.QueueBase\n",
    "- tf.FIFOQueue\n",
    "- tf.PaddingFIFOQueue\n",
    "- tf.RandomShuffleQueue\n",
    "- tf.PriorityQueue\n",
    "\n",
    "## Conditional Accumulators\n",
    "---\n",
    "- tf.ConditionalAccumulatorBase\n",
    "- tf.ConditionalAccumulator\n",
    "- tf.SparseConditionalAccumulator\n",
    "\n",
    "## Dealing with the filesystem\n",
    "---\n",
    "- tf.matching_files\n",
    "- tf.read_file\n",
    "- weite_file\n",
    "\n",
    "## Input pipeline\n",
    "---\n",
    "### Beginning of an input pipeline\n",
    "\n",
    "- tf.train.match_filenames_once\n",
    "- tf.train.limit_epochs\n",
    "- tf.train.input_producer\n",
    "- tf.train.range_input_producer\n",
    "- tf.train.slice_input_producer\n",
    "- tf.train.string_input_producer\n",
    "\n",
    "### Batching at the end of an input pipeline\n",
    "\n",
    "- tf.train.batch\n",
    "- tf.train.maybe_batch\n",
    "- tf.train.batch_join\n",
    "- tf.train.maybe_batch_join\n",
    "- tf.train.shuffle_batch\n",
    "- tf.train.maybe_shuffle_batch\n",
    "- tf.train.shuffle_batch_join\n",
    "- tf.train.maybe_shuffle_batch_join"
   ]
  },
  {
   "cell_type": "markdown",
   "metadata": {},
   "source": [
    "<hr style=\"height:3px\"/>"
   ]
  },
  {
   "cell_type": "markdown",
   "metadata": {},
   "source": [
    "# Neural Network\n",
    "---\n",
    "\n",
    "## Activation Functions\n",
    "---\n",
    "- tf.nn.relu\n",
    "- tf.nn.relu6\n",
    "- tf.nn.crelu\n",
    "- tf.nn.elu\n",
    "- tf.nn.selu\n",
    "- tf.nn.softplus\n",
    "- tf.nn.softsign\n",
    "- tf.nn.dropout\n",
    "- tf.nn.bias_add\n",
    "- tf.nn.tf.sigmoid\n",
    "- tf.nn.tanh\n",
    "\n",
    "## Convolution\n",
    "---\n",
    "When use `SAME`,if the pad_height is 5, we will pad 2 at the\n",
    "top and 3 at the bottom.\n",
    "\n",
    "For the `VALID`:no padding is used;\n",
    "```python\n",
    "out_height = ceil(float(in_height - filter_height + 1) / float(strides[1]))\n",
    "```\n",
    "\n",
    "- tf.nn.convolution\n",
    "- tf.nn.conv2d\n",
    "- tf.nn.depthwise_conv2d\n",
    "- tf.nn.depthwise_conv2d_native\n",
    "- tf.nn.separable_conv2d\n",
    "- tf.nn.atrous_conv2d\n",
    "- tf.nn.atrous_conv2d_transpose\n",
    "- tf.nn.conv2d_transpose\n",
    "- tf.nn.conv1d\n",
    "- tf.nn.conv3d\n",
    "- tf.nn.conv2d_backprop_filter\n",
    "- tf.nn.conv2d_backprop_input\n",
    "- tf.nn.conv3d_backprop_filter_v2\n",
    "- tf.nn.depthwise_conv2d_native_backprop_filter\n",
    "- tf.nn.depthwise_conv2d_native_backprop_input\n",
    "\n",
    "## Pooling\n",
    "---\n",
    "- tf.nn.avg_pool\n",
    "- tf.nn.max_pool\n",
    "- tf.nn.max_pool_with_argmax\n",
    "- tf.nn.avg_pool3d\n",
    "- tf.nn.max_pool3d\n",
    "- tf.nn.fractional_avg_pool\n",
    "- tf.nn.fractional_max_pool\n",
    "- tf.nn.pool\n",
    "\n",
    "## Morphological filtering\n",
    "---\n",
    "非线性滤波器\n",
    "- tf.nn.dilation2d\n",
    "- tf.nn.erosion2d\n",
    "- tf.nn.with_space_to_batch\n",
    "\n",
    "## Normalization\n",
    "---\n",
    "防止饱和神经元的出现\n",
    "- tf.nn.l2_normalize\n",
    "- tf.nn.local_response_normalization\n",
    "- tf.nn.sufficient_statistics\n",
    "- tf.nn.normalize_moments\n",
    "- tf.nn.moments\n",
    "- tf.nn.weighted_moments\n",
    "- tf.nn.fused_batch_norm\n",
    "- tf.nn.batch_normalization\n",
    "- tf.nn.batch_norm_with_global_normalization\n",
    "\n",
    "## Losses\n",
    "---\n",
    "防止过拟合\n",
    "- tf.nn.l2_loss\n",
    "- tf.nn.log_poisson_loss\n",
    "\n",
    "## Classification\n",
    "---\n",
    "- tf.nn.sigmoid_cross_entropy_with_logits\n",
    "- tf.nn.softmax\n",
    "- tf.nn.log_softmax\n",
    "- tf.nn.softmax_cross_entropy_with_logits\n",
    "- tf.nn.softmax_cross_entropy_with_logits_v2\n",
    "- tf.nn.sparse_softmax_cross_entropy_with_logits\n",
    "- tf.nn.weighted_cross_entropy_with_logits\n",
    "\n",
    "## Embeddings\n",
    "---\n",
    "- tf.nn.embedding_lookup\n",
    "- tf.nn.embedding_lookup_sparse\n",
    "\n",
    "## Recurrent Neural Networks\n",
    "---\n",
    "- tf.nn.dynamic_rnn\n",
    "- tf.nn.bidirectional_dynamic_rnn\n",
    "- tf.nn.raw_rnn\n",
    "\n",
    "## Connectionist Temporal Classification(CTC)\n",
    "---\n",
    "- tf.nn.ctc_loss\n",
    "- tf.nn.ctc_greedy_decoder\n",
    "- tf.nn.ctc_beam_search_decoder\n",
    "\n",
    "## Evaluation\n",
    "--\n",
    "- tf.nn.top_k\n",
    "- tf.nn.in_top_k\n",
    "\n",
    "## Candidate Sampling\n",
    "---\n",
    "### Sampled losses Functions\n",
    "- tf.nn.nce_loss\n",
    "- tf.nn.sampled_softmax_loss\n",
    "\n",
    "### Candidate Samples\n",
    "- tf.nn.uniform_candidate_sampler\n",
    "- tf.nn.log_uniform_candidate_sampler\n",
    "- tf.nn.learned_unigram_candidate_sampler\n",
    "- tf.nn.fixed_unigram_candidate_sampler\n",
    "\n",
    "### Miscellaneous candidate sampling utilities\n",
    "- tf.nn.computer_accidental_hits\n",
    "\n",
    "### Quantization ops\n",
    "- tf.nn.quantized_conv2d\n",
    "- tf.nn.quantized_relu_x\n",
    "- tf.nn.quantized_max_pool\n",
    "- tf.nn.quantized_avg_pool\n",
    "\n",
    "## Notes on SAME Convolution Padding\n",
    "---\n",
    "### Final expression"
   ]
  },
  {
   "cell_type": "markdown",
   "metadata": {},
   "source": [
    "<hr style=\"height:3px\"/>"
   ]
  },
  {
   "cell_type": "markdown",
   "metadata": {},
   "source": [
    "# Tensor Transformations\n",
    "---\n",
    "\n",
    "## Casting\n",
    "---\n",
    "- tf.string_to_number\n",
    "- tf.to_double\n",
    "- tf.to_float\n",
    "- tf.to_bfloat16\n",
    "- tf.to_int32\n",
    "- tf.to_int64\n",
    "- tf.cast\n",
    "- tf.bitcast\n",
    "- tf.saturate_cast\n",
    "\n",
    "## Shapes and shaping\n",
    "---\n",
    "- tf.broadcast_dynamic_shape\n",
    "- tf.broadcast_static_shape\n",
    "- tf.shape\n",
    "- tf.shape_n\n",
    "- tf.size\n",
    "- tf.rank\n",
    "- tf.reshape\n",
    "- tf.squeeze\n",
    "- tf.expand_dims\n",
    "- tf.meshgrid\n",
    "\n",
    "## Slicing and Joining\n",
    "---\n",
    "- tf.slice\n",
    "- tf.strided_slice\n",
    "- tf.split\n",
    "- tf.tile\n",
    "- tf.pad\n",
    "- tf.concat\n",
    "- tf.stack\n",
    "- tf.parallel_stack\n",
    "- tf.unstack\n",
    "- tf.reverse_sequence\n",
    "- tf.reverse\n",
    "- tf.reverse_v2\n",
    "- tf.transpose\n",
    "- tf.extract_image_patches\n",
    "- tf.space_to_batch_nd\n",
    "- tf.space_to_batch\n",
    "- tf.required_space_to_batch_paddings\n",
    "- tf.batch_to_space_nd\n",
    "- tf.batch_to_space\n",
    "- tf.space_to_depth\n",
    "- tf.depth_to_space\n",
    "- tf.gather\n",
    "- tf.gather_nd\n",
    "- tf.unique_with_counts\n",
    "- tf.scatter_nd\n",
    "- tf.dynamic_partition\n",
    "- tf.dynamic_stitch\n",
    "- tf.boolean_mask\n",
    "- tf.one_hot\n",
    "- tf.sequence_mask\n",
    "- tf.dequantize\n",
    "- tf.quantize_v2\n",
    "- tf.quantize_concat\n",
    "- tf.setdiff1d\n",
    "\n",
    "## Fake quantization\n",
    "---\n",
    "- tf.fake_quant_with_min_max_args\n",
    "- tf.fake_quant_with_min_max_args_gradient\n",
    "- tf.fake_quant_with_min_max_vars\n",
    "- tf.fake_quant_with_min_max_vars_gradient\n",
    "- tf.fake_quant_with_min_max_vars_per_channel\n",
    "- tf.fake_quant_with_min_max_vars_per_channel_gradient"
   ]
  },
  {
   "cell_type": "markdown",
   "metadata": {},
   "source": [
    "<hr style=\"height:3px\"/>"
   ]
  },
  {
   "cell_type": "markdown",
   "metadata": {},
   "source": [
    "# Asserts and boolean checks\n",
    "---\n",
    "- tf.assert_negative\n",
    "- tf.assert_positive\n",
    "- tf.assert_proper_iterable\n",
    "- tf.assert_non_negative\n",
    "- tf.assert_non_positive\n",
    "- tf.assert_equal\n",
    "- tf.assert_integer\n",
    "- tf.assert_less\n",
    "- tf.assert_less_equal\n",
    "- tf.assert_greater\n",
    "- tf.assert_greater_equal\n",
    "- tf.assert_rank\n",
    "- tf.assert_rank_at_least\n",
    "- tf.assert_type\n",
    "- tf.is_non_decreasing\n",
    "- tf.is_numeric_tensor\n",
    "- tf.is_strictly_increasing"
   ]
  },
  {
   "cell_type": "markdown",
   "metadata": {},
   "source": [
    "<hr style=\"height:3px\"/>"
   ]
  },
  {
   "cell_type": "markdown",
   "metadata": {},
   "source": [
    "# Running Graphs\n",
    "---\n",
    "## Session management\n",
    "---\n",
    "- tf.Session\n",
    "- tf.InteractiveSession\n",
    "- tf.get_default_session\n",
    "\n",
    "## Error classes and convenience functions\n",
    "---\n",
    "- tf.OpError\n",
    "- tf.errors.CancelledError\n",
    "- tf.errors.UnknownError\n",
    "- tf.errors.InvalidArgumentError\n",
    "- tf.errors.DeadlineExceededError\n",
    "- tf.errors.NotFoundError\n",
    "- tf.errors.AlreadyExistsError\n",
    "- tf.errors.PermissionDeniedError\n",
    "- tf.errors.UnauthenticatedError\n",
    "- tf.errors.ResourceExhaustedError\n",
    "- tf.errors.FailedPreconditionError\n",
    "- tf.errors.AbortedError\n",
    "- tf.errors.OutOfRangeError\n",
    "- tf.errors.UnimplementedError\n",
    "- tf.errors.InternalError\n",
    "- tf.errors.UnavailableError\n",
    "- tf.errors.DataLossError\n",
    "- tf.errors.exception_type_from_error_code\n",
    "- tf.errors.error_code_from_exception_type\n",
    "- tf.errors.raise_exception_on_not_ok_status"
   ]
  },
  {
   "cell_type": "markdown",
   "metadata": {},
   "source": [
    "<hr style=\"height:3px\"/>"
   ]
  },
  {
   "cell_type": "markdown",
   "metadata": {},
   "source": [
    "# Constants, Sequences, and Random Values\n",
    "---\n",
    "## Constant Value Tensors\n",
    "- tf.zeros\n",
    "- tf.zeros_like\n",
    "- tf.ones\n",
    "- tf.ones_like\n",
    "- tf.fill\n",
    "- tf.constant\n",
    "\n",
    "## Sequences\n",
    "---\n",
    "- tf.linspace\n",
    "- tf.range\n",
    "\n",
    "## Random Tensors\n",
    "---\n",
    "- tf.random_normal\n",
    "- tf.truncated_normal\n",
    "- tf.random_uniform\n",
    "- tf.random_shuffle\n",
    "- tf.random_crop\n",
    "- tf.multinomial\n",
    "- tf.random_gamma"
   ]
  },
  {
   "cell_type": "markdown",
   "metadata": {},
   "source": [
    "<hr style=\"height:3px\"/>"
   ]
  },
  {
   "cell_type": "markdown",
   "metadata": {},
   "source": [
    "# CRF(contrib)\n",
    "---\n",
    "CRF算法，中文名称条件随机场算法，外文名称conditional random field algorithm，是一种数学算法，是2001年提出的，基于遵循马尔可夫性的概率图模型。\n",
    "- tf.contrib.crf.crf_sequence_score\n",
    "- tf.contrib.crf.crf_log_norm\n",
    "- tf.contrib.crf.crf_log_likelihood\n",
    "- tf.contrib.crf.crf_unary_score\n",
    "- tf.contrib.crf.crf_binary_score\n",
    "- tf.contrib.crf.FrfForwardRnnCell\n",
    "- tf.contrib.crf.viterbi_decode"
   ]
  },
  {
   "cell_type": "markdown",
   "metadata": {},
   "source": [
    "<hr style=\"height:3px\"/>"
   ]
  },
  {
   "cell_type": "markdown",
   "metadata": {},
   "source": [
    "# Random variable transformations(contrib)\n",
    "---\n",
    "## Background\n",
    "---\n",
    "\n",
    "## Bijectors\n",
    "---\n",
    "- tf.contrib.distributions.bijectors.Affine\n",
    "- tf.contrib.distributions.bijectors.AffineLinearOperator\n",
    "- tf.contrib.distributions.bijectors.Bijector\n",
    "- tf.contrib.distributions.bijectors.Chain\n",
    "- tf.contrib.distributions.bijectors.CholeskyOuterProduct\n",
    "- tf.contrib.distributions.bijectors.Exp\n",
    "- tf.contrib.distributions.bijectors.Identity\n",
    "- tf.contrib.distributions.bijectors.Inline\n",
    "- tf.contrib.distributions.bijectors.Invert\n",
    "- tf.contrib.distributions.bijectors.PowerTransform\n",
    "- tf.contrib.distributions.bijectors.SigmoidCentered\n",
    "- tf.contrib.distributions.bijectors.SoftmaxCentered"
   ]
  },
  {
   "cell_type": "markdown",
   "metadata": {},
   "source": [
    "<hr style=\"height:3px\"/>"
   ]
  },
  {
   "cell_type": "markdown",
   "metadata": {},
   "source": [
    "# Statistical Distributions(contrib)\n",
    "---\n",
    "## Classes for statistical distributions\n",
    "---\n",
    "## Base classes\n",
    "---\n",
    "- tf.contrib.distributions.ReparameterzationType\n",
    "- tf.contrib.distributions.Distribution\n",
    "\n",
    "## Univariate(scalar) distributions\n",
    "---\n",
    "- tf.contrib.distributions.Binomial\n",
    "- tf.contrib.distributions.Bernoulli\n",
    "- tf.contrib.distributions.BernoulliWithSigmoidProbs\n",
    "- tf.contrib.distributions.Beta\n",
    "- tf.contrib.distributions.Categorical\n",
    "- tf.contrib.distributions.Chi2\n",
    "- tf.contrib.distributions.Chi2WithAbsDf\n",
    "- tf.contrib.distributions.Exponential\n",
    "- tf.contrib.distributions.Gamma\n",
    "- tf.contrib.distributions.IverseGamma\n",
    "- tf.contrib.distributions.Laplace\n",
    "- tf.contrib.distributions.LaplaceWithSoftplusScale\n",
    "- tf.contrib.distributions.Normal\n",
    "- tf.contrib.distributions.NormalWithSoftplusScale\n",
    "- tf.contrib.distributions.Poisson\n",
    "- tf.contrib.distributions.StudentT\n",
    "- tf.contrib.distributions.StudentTWithAbsSoftplusScale\n",
    "- tf.contrib.distributions.Uniform\n",
    "\n",
    "## Multivariate distributions\n",
    "---\n",
    "### Multivariate normal\n",
    "- tf.contrib.distributions.MultivariateNormalDiag\n",
    "- tf.contrib.distributions.MultivariateNormalTriL\n",
    "- tf.contrib.distributions.MultivariateNormalDiagLowRank\n",
    "- tf.contrib.distributions.MultivariateNormalDiagWithSoftplusScale\n",
    "\n",
    "### Other multivariate distributions\n",
    "- tf.contrib.distributions.Dirichlet\n",
    "- tf.contrib.distributions.DirichletMultinomial\n",
    "- tf.contrib.distributions.Multinomial\n",
    "- tf.contrib.distributions.WishartCholesky\n",
    "- tf.contrib.distributions.WishartFull\n",
    "\n",
    "### Multivariate Utilities\n",
    "- tf.contrib.distributions.matrix_diag_transform\n",
    "\n",
    "## Transformed distribution\n",
    "---\n",
    "- tf.contrib.distributions.TransformedDistribution\n",
    "- tf.contrib.distributions.QuantizedDistribution\n",
    "\n",
    "## Mixture Models\n",
    "---\n",
    "- tf.contrib.distributions.Mixture\n",
    "\n",
    "## Posterior inference with conjugate priors\n",
    "---\n",
    "\n",
    "## Normal likelihold with conjugate prior\n",
    "---\n",
    "- tf.contrib.distributions.normal_conjugates_known_scale_posterior\n",
    "- tf.contrib.distributions.normal_conjugates_known_scale_predictive\n",
    "\n",
    "## Kullback-Leibler Divergence\n",
    "---\n",
    "- tf.contrib.distributions.kl_divergence\n",
    "- tf.contrib.distributions.RegisterKL\n",
    "\n",
    "## Utilities\n",
    "---"
   ]
  },
  {
   "cell_type": "markdown",
   "metadata": {},
   "source": [
    "<hr style=\"height:3px\"/>"
   ]
  },
  {
   "cell_type": "markdown",
   "metadata": {},
   "source": [
    "# FFmpeg(contrib)\n",
    "---\n",
    "## Encoding and decoding audio using FFmpg\n",
    "---\n",
    "- tf.contrib.ffmpeg.decode_audio\n",
    "- tf.contrib.ffmpeg.endoce_audio"
   ]
  },
  {
   "cell_type": "markdown",
   "metadata": {},
   "source": [
    "<hr style=\"height:3px\"/>"
   ]
  },
  {
   "cell_type": "markdown",
   "metadata": {},
   "source": [
    "# Framework(contrib)\n",
    "---\n",
    "- tf.contrib.framework.assert_same_float_dtype\n",
    "- tf.contrib.framework.assert\n",
    "\n",
    "## Deprecation\n",
    "---\n",
    "\n",
    "## Arg_Scope\n",
    "---\n",
    "\n",
    "## Variables\n",
    "---\n",
    "\n",
    "## Checkpoint utilities\n",
    "---"
   ]
  },
  {
   "cell_type": "markdown",
   "metadata": {},
   "source": [
    "<hr style=\"height:3px\"/>"
   ]
  },
  {
   "cell_type": "markdown",
   "metadata": {},
   "source": [
    "<hr style=\"height:3px\"/>"
   ]
  },
  {
   "cell_type": "markdown",
   "metadata": {},
   "source": [
    "<hr style=\"height:3px\"/>"
   ]
  },
  {
   "cell_type": "markdown",
   "metadata": {},
   "source": [
    "<hr style=\"height:3px\"/>"
   ]
  },
  {
   "cell_type": "markdown",
   "metadata": {},
   "source": [
    "<hr style=\"height:3px\"/>"
   ]
  },
  {
   "cell_type": "markdown",
   "metadata": {},
   "source": [
    "<hr style=\"height:3px\"/>"
   ]
  },
  {
   "cell_type": "markdown",
   "metadata": {},
   "source": [
    "<hr style=\"height:3px\"/>"
   ]
  },
  {
   "cell_type": "markdown",
   "metadata": {},
   "source": [
    "<hr style=\"height:3px\"/>"
   ]
  },
  {
   "cell_type": "markdown",
   "metadata": {},
   "source": [
    "<hr style=\"height:3px\"/>"
   ]
  },
  {
   "cell_type": "markdown",
   "metadata": {},
   "source": [
    "<hr style=\"height:3px\"/>"
   ]
  },
  {
   "cell_type": "markdown",
   "metadata": {},
   "source": [
    "<hr style=\"height:3px\"/>"
   ]
  },
  {
   "cell_type": "markdown",
   "metadata": {},
   "source": [
    "<hr style=\"height:3px\"/>"
   ]
  },
  {
   "cell_type": "markdown",
   "metadata": {},
   "source": [
    "<hr style=\"height:3px\"/>"
   ]
  },
  {
   "cell_type": "markdown",
   "metadata": {},
   "source": [
    "<hr style=\"height:3px\"/>"
   ]
  },
  {
   "cell_type": "markdown",
   "metadata": {},
   "source": [
    "<hr style=\"height:3px\"/>"
   ]
  },
  {
   "cell_type": "markdown",
   "metadata": {},
   "source": [
    "<hr style=\"height:3px\"/>"
   ]
  },
  {
   "cell_type": "code",
   "execution_count": null,
   "metadata": {},
   "outputs": [],
   "source": []
  }
 ],
 "metadata": {
  "kernelspec": {
   "display_name": "Python [conda env:tensorflow]",
   "language": "python",
   "name": "conda-env-tensorflow-py"
  },
  "language_info": {
   "codemirror_mode": {
    "name": "ipython",
    "version": 3
   },
   "file_extension": ".py",
   "mimetype": "text/x-python",
   "name": "python",
   "nbconvert_exporter": "python",
   "pygments_lexer": "ipython3",
   "version": "3.6.2"
  }
 },
 "nbformat": 4,
 "nbformat_minor": 2
}
