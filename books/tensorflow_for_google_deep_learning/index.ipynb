{
 "cells": [
  {
   "cell_type": "code",
   "execution_count": 1,
   "metadata": {},
   "outputs": [],
   "source": [
    "import tensorflow as tf"
   ]
  },
  {
   "cell_type": "markdown",
   "metadata": {},
   "source": [
    "简单的两个数组相加案例"
   ]
  },
  {
   "cell_type": "code",
   "execution_count": 2,
   "metadata": {},
   "outputs": [
    {
     "data": {
      "text/plain": [
       "array([4, 6])"
      ]
     },
     "execution_count": 2,
     "metadata": {},
     "output_type": "execute_result"
    }
   ],
   "source": [
    "a = tf.constant([1,2], name='a')\n",
    "b = tf.constant([3,4], name='b')\n",
    "result = a + b\n",
    "sess = tf.Session()\n",
    "sess.run(result)  "
   ]
  },
  {
   "cell_type": "markdown",
   "metadata": {},
   "source": [
    "# 1 计算图Graph\n",
    "---\n",
    "```python\n",
    "import tensorflow as tf\n",
    "tf.Graph()\n",
    "```"
   ]
  },
  {
   "cell_type": "markdown",
   "metadata": {},
   "source": [
    "## 1.1 计算图的使用\n",
    "---\n",
    "每个计算图相互独立"
   ]
  },
  {
   "cell_type": "code",
   "execution_count": 5,
   "metadata": {},
   "outputs": [
    {
     "name": "stdout",
     "output_type": "stream",
     "text": [
      "Graph1 v =  [0.]\n",
      "Graph2 v =  [1.]\n"
     ]
    }
   ],
   "source": [
    "# 创建两个计算图，并定义一个初始化变量v\n",
    "g1 = tf.Graph()\n",
    "with g1.as_default():\n",
    "    v = tf.get_variable('v', shape=[1], initializer=tf.zeros_initializer)\n",
    "    \n",
    "g2 = tf.Graph()\n",
    "with g2.as_default():\n",
    "    v = tf.get_variable('v', shape=[1], initializer=tf.ones_initializer)\n",
    "    \n",
    "# 获取g1中的v\n",
    "with tf.Session(graph=g1) as sess:\n",
    "    tf.global_variables_initializer().run()\n",
    "    with tf.variable_scope('', reuse=True):\n",
    "        print('Graph1 v = ', sess.run(tf.get_variable('v')))\n",
    "\n",
    "# 获取g2中的v\n",
    "with tf.Session(graph=g2) as sess:\n",
    "    tf.global_variables_initializer().run()\n",
    "    with tf.variable_scope('', reuse=True):\n",
    "        print('Graph2 v = ', sess.run(tf.get_variable('v')))"
   ]
  },
  {
   "cell_type": "markdown",
   "metadata": {},
   "source": [
    "指定图在GPU计算"
   ]
  },
  {
   "cell_type": "code",
   "execution_count": 9,
   "metadata": {},
   "outputs": [
    {
     "name": "stdout",
     "output_type": "stream",
     "text": [
      "[4 6]\n"
     ]
    }
   ],
   "source": [
    "g = tf.Graph()\n",
    "a = tf.constant([1,2], name='a')\n",
    "b = tf.constant([3,4], name='b')\n",
    "\n",
    "with g.device('/gpu:0'):\n",
    "    result = a + b\n",
    "    with tf.Session() as sess:\n",
    "        print(sess.run(result))"
   ]
  },
  {
   "cell_type": "markdown",
   "metadata": {},
   "source": [
    "## 1.2 Tensor\n",
    "---\n",
    "### 1.2.1 introduction\n",
    "---\n",
    "1. tensor\n",
    "    - 0阶张量为标量(scalar)，对应一个数\n",
    "    - 一阶张量为向量(vector)，对应一维数组\n",
    "    - n阶张量对应n维数组\n",
    "2. tensor的数据结构\n",
    "    - name: `name:src_output`\n",
    "    - shape:\n",
    "    - dtype:\n",
    "3. tensor支持的数据类型\n",
    "    - tf.float32, tf.float64\n",
    "    - tf.int8, tf.int16, tf.int32, tf.int64, tf.uint8\n",
    "    - tf.bool\n",
    "    - tf.complex64, tf.complex128\n",
    "4. 张量的使用\n",
    "    - 对中间计算结果的引用\n",
    "    - 可以通过name获取保存的计算结果"
   ]
  },
  {
   "cell_type": "code",
   "execution_count": 31,
   "metadata": {
    "scrolled": true
   },
   "outputs": [],
   "source": [
    "a = tf.constant([1,2], name='a')\n",
    "b = tf.constant([3,4], name='b')\n",
    "result = tf.add(a, b, name='add_ab')"
   ]
  },
  {
   "cell_type": "code",
   "execution_count": 34,
   "metadata": {},
   "outputs": [
    {
     "data": {
      "text/plain": [
       "<tf.Tensor 'add_ab:0' shape=(2,) dtype=int32>"
      ]
     },
     "execution_count": 34,
     "metadata": {},
     "output_type": "execute_result"
    }
   ],
   "source": [
    "result\n",
    "# '节点名:该节点的第几个输出'，如果重复赋值，以前的不会被覆盖，会出现`add_ab_1:0`"
   ]
  },
  {
   "cell_type": "code",
   "execution_count": 57,
   "metadata": {},
   "outputs": [
    {
     "data": {
      "text/plain": [
       "<tf.Tensor 'a_12:0' shape=(2,) dtype=int32>"
      ]
     },
     "execution_count": 57,
     "metadata": {},
     "output_type": "execute_result"
    }
   ],
   "source": [
    "a"
   ]
  },
  {
   "cell_type": "markdown",
   "metadata": {},
   "source": [
    "## 1.3 Session\n",
    "---\n",
    "tensorflow 通过使用Session来执行定义好的运算。\n",
    "```python\n",
    "sess = tf.Session()\n",
    "# 执行定义好的张量\n",
    "sess.run()\n",
    "\n",
    "sess.close()\n",
    "```\n",
    "or\n",
    "```python\n",
    "with tf.Session() as sess:\n",
    "    sess.run()\n",
    "```"
   ]
  },
  {
   "cell_type": "markdown",
   "metadata": {},
   "source": [
    "### 1.3.1 定义默认会话\n",
    "---\n"
   ]
  },
  {
   "cell_type": "markdown",
   "metadata": {},
   "source": [
    "**方法1**：使用as_default创建一个context manager，在内部可以直接使用tensor_name.eval()执行。"
   ]
  },
  {
   "cell_type": "code",
   "execution_count": 83,
   "metadata": {},
   "outputs": [
    {
     "name": "stdout",
     "output_type": "stream",
     "text": [
      "[4 6]\n"
     ]
    }
   ],
   "source": [
    "# 使用as_default创建一个context manager，在内部可以直接使用tensor_name.eval()执行。\n",
    "sess = tf.Session()\n",
    "with sess.as_default():\n",
    "    print(result.eval())"
   ]
  },
  {
   "cell_type": "markdown",
   "metadata": {},
   "source": [
    "**方法2**：使用`tf.InteractiveSession()`函数,直接创建一个默认session，不用再去指定。"
   ]
  },
  {
   "cell_type": "code",
   "execution_count": 86,
   "metadata": {},
   "outputs": [
    {
     "name": "stdout",
     "output_type": "stream",
     "text": [
      "[4 6]\n"
     ]
    }
   ],
   "source": [
    "sess = tf.InteractiveSession()\n",
    "print(result.eval())\n",
    "\n",
    "sess.close()"
   ]
  },
  {
   "cell_type": "markdown",
   "metadata": {},
   "source": [
    "**方法3**：使用`ConfigProto()`创建一个config对象，在session创建的时候指定config属性"
   ]
  },
  {
   "cell_type": "code",
   "execution_count": 89,
   "metadata": {},
   "outputs": [],
   "source": [
    "config = tf.ConfigProto(allow_soft_placement=True,\n",
    "                       log_device_placement=True)\n",
    "\n",
    "sess1 = tf.InteractiveSession(config=config)\n",
    "# sess2 = tf.Session(config=config)"
   ]
  },
  {
   "cell_type": "markdown",
   "metadata": {},
   "source": [
    "## 1.4 实现神经网络\n",
    "---\n"
   ]
  },
  {
   "cell_type": "code",
   "execution_count": 100,
   "metadata": {},
   "outputs": [],
   "source": [
    "x = tf.constant([0.7, 0.9], shape=(2, 1))"
   ]
  },
  {
   "cell_type": "code",
   "execution_count": 101,
   "metadata": {},
   "outputs": [],
   "source": [
    "w1 = tf.constant([[0.2, 0.3],[0.1,-0.5],[0.4,0.2]], shape=(3, 2))"
   ]
  },
  {
   "cell_type": "code",
   "execution_count": 102,
   "metadata": {},
   "outputs": [],
   "source": [
    "w2 = tf.constant([0.6, 0.1, -0.2], shape=(1, 3))"
   ]
  },
  {
   "cell_type": "code",
   "execution_count": 103,
   "metadata": {},
   "outputs": [],
   "source": [
    "a = tf.matmul(w1, x)\n",
    "y = tf.matmul(w2, a)"
   ]
  },
  {
   "cell_type": "code",
   "execution_count": 104,
   "metadata": {},
   "outputs": [
    {
     "data": {
      "text/plain": [
       "array([[0.11600002]], dtype=float32)"
      ]
     },
     "execution_count": 104,
     "metadata": {},
     "output_type": "execute_result"
    }
   ],
   "source": [
    "y.eval()"
   ]
  },
  {
   "cell_type": "markdown",
   "metadata": {},
   "source": [
    "### 1.4.1 variable\n",
    "---\n",
    "在tensorflow中，一个变量值在被使用之前，这个变量的**初始化过程**要被明确调用。变量定义类似于python中的函数定义，想要使用，需要调用。通过session调用。\n",
    "```python\n",
    "# 创建variable,并将变量加入到GraphKeys.VARIABLES,如果参数trainable=True,默认为True,则变量会被加入到GraphKeys.TRAINABLE_VARIABLES\n",
    "v = tf.Variable()\n",
    "# 初始化\n",
    "v.initializer\n",
    "\n",
    "# 获取已定义的变量列表\n",
    "tf.global_variables()\n",
    "\n",
    "# 获取可训练的变量列表\n",
    "tf.trainable_variables\n",
    "\n",
    "```\n",
    "\n",
    ">  随机生成函数\n",
    "---\n",
    "```python\n",
    "tf.random_normal\n",
    "tf.truncated_normal\n",
    "tf.random_uniform\n",
    "tf.random.gamma\n",
    "```\n",
    "\n",
    "> 常数生成函数\n",
    "---\n",
    "```python\n",
    "tf.zeros\n",
    "tf.ones\n",
    "tf.fill\n",
    "tf.constant\n",
    "```\n",
    "### 1.4.2 前向传播\n",
    "---\n",
    "1. 定义输入值\n",
    "2. 定义隐藏层1的权重\n",
    "3. 定义隐藏层2的权重\n",
    "4. 计算"
   ]
  },
  {
   "cell_type": "code",
   "execution_count": 14,
   "metadata": {},
   "outputs": [
    {
     "name": "stdout",
     "output_type": "stream",
     "text": [
      "[[-3.7798672]]\n"
     ]
    }
   ],
   "source": [
    "import tensorflow as tf\n",
    "\n",
    "# 定义输入值\n",
    "x = tf.constant([0.7,0.9], shape=(2, 1), dtype=tf.float32)\n",
    "\n",
    "# 随机生成权重值，采用正太分布\n",
    "w1 = tf.Variable(tf.random_normal((3, 2), stddev=1, seed=1))\n",
    "w2 = tf.Variable(tf.random_normal((1, 3), stddev=1, seed=1))\n",
    "\n",
    "# 定义计算过程\n",
    "h = tf.matmul(w1, x)\n",
    "y = tf.matmul(w2, h)\n",
    "\n",
    "# 定义全局变量初始化\n",
    "init_op = tf.global_variables_initializer()\n",
    "\n",
    "# 开始计算\n",
    "with tf.Session() as sess:\n",
    "#     sess.run(w1.initializer)\n",
    "#     sess.run(w2.initializer)\n",
    "    sess.run(init_op)\n",
    "    print(sess.run(y))"
   ]
  },
  {
   "cell_type": "markdown",
   "metadata": {},
   "source": [
    "### 1.4.3 placeholder\n",
    "---\n",
    "用placeholder管理常量\n",
    "```python\n",
    "# 创建\n",
    "v = tf.placeholder(dtype, shape=None, name=None)\n",
    "```"
   ]
  },
  {
   "cell_type": "code",
   "execution_count": 3,
   "metadata": {},
   "outputs": [
    {
     "name": "stdout",
     "output_type": "stream",
     "text": [
      "[[-3.7798672]]\n"
     ]
    }
   ],
   "source": [
    "import tensorflow as tf\n",
    "\n",
    "# 定义输入值\n",
    "x = tf.placeholder(tf.float32, shape=(2, 1), name='input')\n",
    "\n",
    "# 随机生成权重值，采用正太分布\n",
    "w1 = tf.Variable(tf.random_normal((3, 2), stddev=1, seed=1))\n",
    "w2 = tf.Variable(tf.random_normal((1, 3), stddev=1, seed=1))\n",
    "\n",
    "# 定义计算过程\n",
    "h = tf.matmul(w1, x)\n",
    "y = tf.matmul(w2, h)\n",
    "\n",
    "# 定义全局变量初始化\n",
    "init_op = tf.global_variables_initializer()\n",
    "\n",
    "# 开始计算\n",
    "with tf.Session() as sess:\n",
    "    sess.run(init_op)\n",
    "    print(sess.run(y, feed_dict={x: [[0.7],[0.9]]}))"
   ]
  },
  {
   "cell_type": "markdown",
   "metadata": {},
   "source": [
    "定义多维输入值,这里定义三个样本"
   ]
  },
  {
   "cell_type": "code",
   "execution_count": 8,
   "metadata": {},
   "outputs": [
    {
     "name": "stdout",
     "output_type": "stream",
     "text": [
      "[[-3.7798674 -1.8407464 -3.4529805]]\n"
     ]
    }
   ],
   "source": [
    "import tensorflow as tf\n",
    "import numpy as np\n",
    "\n",
    "# 定义输入值（三个样本）\n",
    "x = tf.placeholder(tf.float32, shape=(2, 3), name='input')\n",
    "\n",
    "# 随机生成权重值，采用正太分布\n",
    "w1 = tf.Variable(tf.random_normal((3, 2), stddev=1, seed=1))\n",
    "w2 = tf.Variable(tf.random_normal((1, 3), stddev=1, seed=1))\n",
    "\n",
    "# 定义计算过程\n",
    "h = tf.matmul(w1, x)\n",
    "y = tf.matmul(w2, h)\n",
    "\n",
    "# 定义全局变量初始化\n",
    "init_op = tf.global_variables_initializer()\n",
    "\n",
    "# 定义输入值\n",
    "input_data = np.array([[0.7, 0.9],\n",
    "                      [0.1, 0.4],\n",
    "                      [0.5, 0.8]]).T\n",
    "# 开始计算\n",
    "with tf.Session() as sess:\n",
    "    sess.run(init_op)\n",
    "    print(sess.run(y, feed_dict={x: input_data}))"
   ]
  },
  {
   "cell_type": "markdown",
   "metadata": {},
   "source": [
    "### 1.4.4 反向传播\n",
    "---\n",
    "这里采用交叉熵\n",
    "$$H(p,q)=-\\sum_{i=1}^np(x_i)log(q(x_i))$$"
   ]
  },
  {
   "cell_type": "markdown",
   "metadata": {},
   "source": [
    "### 1.4.5 完整的代码\n",
    "---\n",
    "<b style=\"color:red\">认为书中此部分有bug,待补充</b>"
   ]
  },
  {
   "cell_type": "code",
   "execution_count": 49,
   "metadata": {},
   "outputs": [
    {
     "name": "stdout",
     "output_type": "stream",
     "text": [
      "[[0.02231633 0.13696304 0.0306801 ]]\n"
     ]
    }
   ],
   "source": [
    "import tensorflow as tf\n",
    "import numpy as np\n",
    "\n",
    "# 定义batch的大小\n",
    "batch_size = 8\n",
    "\n",
    "# 定义输入值,这里不具体指定样本的数量\n",
    "x = tf.placeholder(tf.float32, shape=(2, None), name='input')\n",
    "# 定义输出的label\n",
    "y_ = tf.placeholder(tf.float32, shape=(1, None), name='target')\n",
    "\n",
    "# 随机生成权重值，采用正太分布\n",
    "w1 = tf.Variable(tf.random_normal((3, 2), stddev=1, seed=1))\n",
    "w2 = tf.Variable(tf.random_normal((1, 3), stddev=1, seed=1))\n",
    "\n",
    "# 定义计算过程\n",
    "h = tf.matmul(w1, x)\n",
    "y = tf.matmul(w2, h)\n",
    "\n",
    "y = tf.sigmoid(y)\n",
    "\n",
    "\n",
    "# 定义全局变量初始化\n",
    "init_op = tf.global_variables_initializer()\n",
    "\n",
    "# 定义输入值\n",
    "input_data = np.array([[0.7, 0.9],\n",
    "                      [0.1, 0.4],\n",
    "                      [0.5, 0.8]]).T\n",
    "# 开始计算\n",
    "with tf.Session() as sess:\n",
    "    sess.run(init_op)\n",
    "    print(sess.run(y, feed_dict={x: input_data}))\n"
   ]
  },
  {
   "cell_type": "code",
   "execution_count": 45,
   "metadata": {},
   "outputs": [],
   "source": [
    "import math\n"
   ]
  },
  {
   "cell_type": "code",
   "execution_count": 46,
   "metadata": {},
   "outputs": [],
   "source": [
    "tf.sigmoid?"
   ]
  },
  {
   "cell_type": "code",
   "execution_count": 48,
   "metadata": {},
   "outputs": [
    {
     "data": {
      "text/plain": [
       "0.13705129257545964"
      ]
     },
     "execution_count": 48,
     "metadata": {},
     "output_type": "execute_result"
    }
   ],
   "source": [
    "1/ (1 + np.e**(1.84))"
   ]
  },
  {
   "cell_type": "code",
   "execution_count": 52,
   "metadata": {},
   "outputs": [
    {
     "name": "stdout",
     "output_type": "stream",
     "text": [
      "1e-10\n"
     ]
    }
   ],
   "source": [
    "print(1e-10)"
   ]
  },
  {
   "cell_type": "code",
   "execution_count": null,
   "metadata": {},
   "outputs": [],
   "source": []
  }
 ],
 "metadata": {
  "kernelspec": {
   "display_name": "Python [conda env:tensorflow]",
   "language": "python",
   "name": "conda-env-tensorflow-py"
  },
  "language_info": {
   "codemirror_mode": {
    "name": "ipython",
    "version": 3
   },
   "file_extension": ".py",
   "mimetype": "text/x-python",
   "name": "python",
   "nbconvert_exporter": "python",
   "pygments_lexer": "ipython3",
   "version": "3.6.2"
  }
 },
 "nbformat": 4,
 "nbformat_minor": 2
}
