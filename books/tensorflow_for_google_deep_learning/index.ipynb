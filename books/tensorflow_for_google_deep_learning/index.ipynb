{
 "cells": [
  {
   "cell_type": "markdown",
   "metadata": {},
   "source": [
    "安装成功测试"
   ]
  },
  {
   "cell_type": "code",
   "execution_count": 1,
   "metadata": {},
   "outputs": [],
   "source": [
    "import tensorflow as tf"
   ]
  },
  {
   "cell_type": "markdown",
   "metadata": {},
   "source": [
    "简单的两个数组相加案例"
   ]
  },
  {
   "cell_type": "code",
   "execution_count": 2,
   "metadata": {},
   "outputs": [
    {
     "data": {
      "text/plain": [
       "array([4, 6])"
      ]
     },
     "execution_count": 2,
     "metadata": {},
     "output_type": "execute_result"
    }
   ],
   "source": [
    "a = tf.constant([1,2], name='a')\n",
    "b = tf.constant([3,4], name='b')\n",
    "result = a + b\n",
    "sess = tf.Session()\n",
    "sess.run(result)  "
   ]
  },
  {
   "cell_type": "markdown",
   "metadata": {},
   "source": [
    "# 3 Basic\n",
    "---\n",
    "1. 计算模型 - 计算图\n",
    "2. 数据模型 - tensor\n",
    "3. 运行模型 - session\n",
    "4. 计算流程"
   ]
  },
  {
   "cell_type": "markdown",
   "metadata": {},
   "source": [
    "## 3.1 计算图的使用\n",
    "---\n",
    "**tensorflow**,其中tensor代表张量也就是多维数组，而flow本意是流，用来展现tensor的转换关系。这么一个关系就构成了简单的图。\n",
    "\n",
    "TensorFlow程序的运行一般分为**两个阶段**。\n",
    "- 定义计算图中的计算(包括tensor，计算过程)\n",
    "- 执行计算(需要在Session中执行)\n",
    "\n",
    "在tensorflow程序中，会有一个默认的计算图，如果不特意指定，我们所有的操作都是在这个默认的计算图中操作。可以通过`tf.get_default_graph()`获取默认计算图。也可以使用`tf.Graph()`创建新的计算图。**各个计算图相互独立**。\n",
    "\n",
    "```python\n",
    "import tensorflow as tf\n",
    "\n",
    "# 获取默认计算图\n",
    "tf.get_default_graph()\n",
    "\n",
    "# 创建新的计算图\n",
    "g1 = tf.Graph()\n",
    "\n",
    "# 指定操作的计算图\n",
    "with g1.as_default():\n",
    "    # 指定计算图的运行设备\n",
    "    with g1.device('/gpu:0'):\n",
    "        # 计算过程\n",
    "        pass\n",
    "    \n",
    "        # 执行阶段指定要执行的计算图\n",
    "        with tf.Session(graph=g1) as sess:\n",
    "            sess.run(...)\n",
    "```"
   ]
  },
  {
   "cell_type": "code",
   "execution_count": 5,
   "metadata": {},
   "outputs": [
    {
     "name": "stdout",
     "output_type": "stream",
     "text": [
      "Graph1 v =  [0.]\n",
      "Graph2 v =  [1.]\n"
     ]
    }
   ],
   "source": [
    "# 创建两个计算图，并定义一个初始化变量v\n",
    "g1 = tf.Graph()\n",
    "with g1.as_default():\n",
    "    v = tf.get_variable('v', shape=[1], initializer=tf.zeros_initializer)\n",
    "    \n",
    "g2 = tf.Graph()\n",
    "with g2.as_default():\n",
    "    v = tf.get_variable('v', shape=[1], initializer=tf.ones_initializer)\n",
    "    \n",
    "# 获取g1中的v\n",
    "with tf.Session(graph=g1) as sess:\n",
    "    tf.global_variables_initializer().run()\n",
    "    with tf.variable_scope('', reuse=True):\n",
    "        print('Graph1 v = ', sess.run(tf.get_variable('v')))\n",
    "\n",
    "# 获取g2中的v\n",
    "with tf.Session(graph=g2) as sess:\n",
    "    tf.global_variables_initializer().run()\n",
    "    with tf.variable_scope('', reuse=True):\n",
    "        print('Graph2 v = ', sess.run(tf.get_variable('v')))"
   ]
  },
  {
   "cell_type": "markdown",
   "metadata": {},
   "source": [
    "指定图在GPU计算"
   ]
  },
  {
   "cell_type": "code",
   "execution_count": 9,
   "metadata": {},
   "outputs": [
    {
     "name": "stdout",
     "output_type": "stream",
     "text": [
      "[4 6]\n"
     ]
    }
   ],
   "source": [
    "g = tf.Graph()\n",
    "a = tf.constant([1,2], name='a')\n",
    "b = tf.constant([3,4], name='b')\n",
    "\n",
    "with g.device('/gpu:0'):\n",
    "    result = a + b\n",
    "    with tf.Session() as sess:\n",
    "        print(sess.run(result))"
   ]
  },
  {
   "cell_type": "markdown",
   "metadata": {},
   "source": [
    "> Collection\n",
    "\n",
    "为方便管理一个计算图中的所有资源，tensorflow引入了Collection来管理不同的资源。详情查看(`help(tf.GraphKeys)`),包含了已经定义好的集合和属性。可以使用`tf.add_to_collection(key_name, values)`将value加入到指定名称的集合中,使用`tf.get_collection(key_name)`获取指定集合名称的值。\n",
    "\n",
    "先写一个集合的用法**eg**\n",
    "```python\n",
    "# 将[1,2,3,4]加入到GLOBAL_VARIABLES\n",
    "tf.add_to_collection(tf.GraphKeys.GLOBAL_VARIABLES, [1,2,3,4]) # 或者tf.add_to_collection('variables', [1,2,3,4])\n",
    "\n",
    "# 获取GLOBAL_VARIABLES集合中的内容\n",
    "tf.get_collection(tf.GraphKeys.GLOBAL_VARIABLES) # 或者tf.get_collection('variables') 或者tf.global_variables()\n",
    "```\n",
    "\n",
    "其中已经定义号的集合名称，并且可以直接通过`tf.`列举常用的key有：\n",
    "\n",
    "|variable_name|variable_value|noters|\n",
    "|---|---|---|\n",
    "|GLOBAL_VARIABLES|variables|default collection of variable|\n",
    "|MODEL_VARIABLES|model_variables|use in the model for **inference**|\n",
    "|TRAINABLE_VARIABLES|trainable_variables|will be trained by **optimizer**|\n",
    "|SUMMARIES|summaries|the summary tensor objects that have been created|\n",
    "|QUEUE_RUNNERS|queue_runners|used to product input for a computation|\n",
    "|MOVING_AVERAGE_VARIABLES|moving_average_variables|for moving_averages|\n",
    "|REGULARIZATION_LOSSES|regularization_losses|regulation losses collected|\n"
   ]
  },
  {
   "cell_type": "markdown",
   "metadata": {},
   "source": [
    "## 3.2 Tensor\n",
    "---\n",
    "### 3.2.1 introduction\n",
    "---\n",
    "张量在tensorflow中代表的是一个数据结构，保留的是计算过程，并不直接保存计算结果。如果想要获得结果需要先对相关变量进行初始化，并在会话中获取结果。\n",
    "1. tensor\n",
    "    - 0阶张量为标量(scalar)，对应一个数\n",
    "    - 一阶张量为向量(vector)，对应一维数组\n",
    "    - n阶张量对应n维数组\n",
    "2. tensor的数据结构\n",
    "    - name: `name:src_output`\n",
    "    - shape:\n",
    "    - dtype: 默认为tf.int32和tf.float32\n",
    "3. tensor支持的数据类型\n",
    "    - tf.float32, tf.float64\n",
    "    - tf.int8, tf.int16, tf.int32, tf.int64, tf.uint8\n",
    "    - tf.bool\n",
    "    - tf.complex64, tf.complex128\n",
    "4. 张量的使用\n",
    "    - 对中间计算结果的引用\n",
    "    - 可以通过name获取保存的计算结果"
   ]
  },
  {
   "cell_type": "code",
   "execution_count": 20,
   "metadata": {
    "scrolled": true
   },
   "outputs": [],
   "source": [
    "a = tf.constant([1,2], name='a')\n",
    "b = tf.constant([3,4], name='b')\n",
    "result = tf.add(a, b, name='add_ab')"
   ]
  },
  {
   "cell_type": "markdown",
   "metadata": {},
   "source": [
    "## 3.3 Session\n",
    "---\n",
    "tensorflow 通过使用Session来执行定义好的运算。\n",
    "```python\n",
    "sess = tf.Session()\n",
    "# 执行定义好的张量\n",
    "sess.run()\n",
    "\n",
    "sess.close()\n",
    "```\n",
    "or\n",
    "```python\n",
    "with tf.Session() as sess:\n",
    "    sess.run()\n",
    "```"
   ]
  },
  {
   "cell_type": "markdown",
   "metadata": {},
   "source": [
    "### 3.3.1 定义默认会话\n",
    "---\n"
   ]
  },
  {
   "cell_type": "markdown",
   "metadata": {},
   "source": [
    "**方法1**：使用as_default创建一个context manager，在内部可以直接使用tensor_name.eval()执行。"
   ]
  },
  {
   "cell_type": "code",
   "execution_count": 83,
   "metadata": {},
   "outputs": [
    {
     "name": "stdout",
     "output_type": "stream",
     "text": [
      "[4 6]\n"
     ]
    }
   ],
   "source": [
    "# 使用as_default创建一个context manager，在内部可以直接使用tensor_name.eval()执行。\n",
    "sess = tf.Session()\n",
    "with sess.as_default():\n",
    "    print(result.eval())"
   ]
  },
  {
   "cell_type": "markdown",
   "metadata": {},
   "source": [
    "**方法2**：(常用于交互环境)使用`tf.InteractiveSession()`函数,直接创建一个session并设为默认sessio。"
   ]
  },
  {
   "cell_type": "code",
   "execution_count": 86,
   "metadata": {},
   "outputs": [
    {
     "name": "stdout",
     "output_type": "stream",
     "text": [
      "[4 6]\n"
     ]
    }
   ],
   "source": [
    "sess = tf.InteractiveSession()\n",
    "print(result.eval())\n",
    "\n",
    "sess.close()"
   ]
  },
  {
   "cell_type": "markdown",
   "metadata": {},
   "source": [
    "**方法3**：使用`ConfigProto()`创建一个config对象，在session创建的时候指定config属性"
   ]
  },
  {
   "cell_type": "code",
   "execution_count": 89,
   "metadata": {},
   "outputs": [],
   "source": [
    "config = tf.ConfigProto(allow_soft_placement=True,\n",
    "                       log_device_placement=True)\n",
    "\n",
    "sess1 = tf.InteractiveSession(config=config)\n",
    "# sess2 = tf.Session(config=config)"
   ]
  },
  {
   "cell_type": "markdown",
   "metadata": {},
   "source": [
    "## 3.4 实现神经网络\n",
    "---\n",
    "主要介绍实现神经网络的前向传播过程。输入层到隐藏层到输出层。"
   ]
  },
  {
   "cell_type": "code",
   "execution_count": 100,
   "metadata": {},
   "outputs": [],
   "source": [
    "x = tf.constant([0.7, 0.9], shape=(2, 1))"
   ]
  },
  {
   "cell_type": "code",
   "execution_count": 101,
   "metadata": {},
   "outputs": [],
   "source": [
    "w1 = tf.constant([[0.2, 0.3],[0.1,-0.5],[0.4,0.2]], shape=(3, 2))"
   ]
  },
  {
   "cell_type": "code",
   "execution_count": 102,
   "metadata": {},
   "outputs": [],
   "source": [
    "w2 = tf.constant([0.6, 0.1, -0.2], shape=(1, 3))"
   ]
  },
  {
   "cell_type": "code",
   "execution_count": 103,
   "metadata": {},
   "outputs": [],
   "source": [
    "a = tf.matmul(w1, x)\n",
    "y = tf.matmul(w2, a)"
   ]
  },
  {
   "cell_type": "code",
   "execution_count": 104,
   "metadata": {},
   "outputs": [
    {
     "data": {
      "text/plain": [
       "array([[0.11600002]], dtype=float32)"
      ]
     },
     "execution_count": 104,
     "metadata": {},
     "output_type": "execute_result"
    }
   ],
   "source": [
    "y.eval()"
   ]
  },
  {
   "cell_type": "markdown",
   "metadata": {},
   "source": [
    "### 1.4.1 variable\n",
    "---\n",
    "在tensorflow中，一个变量值在被使用之前，这个变量的**初始化过程**要被明确调用。变量定义类似于python中的函数定义，想要使用，需要调用。通过session调用。\n",
    "```python\n",
    "# 创建variable,并将变量加入到GraphKeys.VARIABLES,如果参数trainable=True,默认为True,则变量会被加入到GraphKeys.TRAINABLE_VARIABLES\n",
    "v = tf.Variable()\n",
    "# 初始化\n",
    "v.initializer\n",
    "\n",
    "# 获取已定义的变量列表\n",
    "tf.global_variables()\n",
    "\n",
    "# 获取可训练的变量列表\n",
    "tf.trainable_variables\n",
    "\n",
    "```\n",
    "\n",
    ">  随机生成函数\n",
    "---\n",
    "```python\n",
    "tf.random_normal\n",
    "tf.truncated_normal\n",
    "tf.random_uniform\n",
    "tf.random.gamma\n",
    "```\n",
    "\n",
    "> 常数生成函数\n",
    "---\n",
    "```python\n",
    "tf.zeros\n",
    "tf.ones\n",
    "tf.fill\n",
    "tf.constant\n",
    "```\n",
    "### 1.4.2 前向传播\n",
    "---\n",
    "1. 定义输入值\n",
    "2. 定义隐藏层1的权重\n",
    "3. 定义隐藏层2的权重\n",
    "4. 计算"
   ]
  },
  {
   "cell_type": "code",
   "execution_count": 1,
   "metadata": {},
   "outputs": [
    {
     "name": "stdout",
     "output_type": "stream",
     "text": [
      "[[3.957578]]\n"
     ]
    }
   ],
   "source": [
    "import tensorflow as tf\n",
    "\n",
    "# 定义输入值\n",
    "x = tf.constant([0.7,0.9], shape=(1, 2), dtype=tf.float32)\n",
    "\n",
    "# 随机生成权重值，采用正太分布\n",
    "w1 = tf.Variable(tf.random_normal((2, 3), stddev=1, seed=1))\n",
    "w2 = tf.Variable(tf.random_normal((3, 1), stddev=1, seed=1))\n",
    "\n",
    "# 定义计算过程\n",
    "h = tf.matmul(x, w1)\n",
    "y = tf.matmul(h, w2)\n",
    "\n",
    "# 定义全局变量初始化\n",
    "init_op = tf.global_variables_initializer()\n",
    "\n",
    "# 开始计算\n",
    "with tf.Session() as sess:\n",
    "#     sess.run(w1.initializer)\n",
    "#     sess.run(w2.initializer)\n",
    "    sess.run(init_op)\n",
    "    print(sess.run(y))"
   ]
  },
  {
   "cell_type": "markdown",
   "metadata": {},
   "source": [
    "### 1.4.3 placeholder\n",
    "---\n",
    "用于训练模型的输入值。通过placeholder起到一个占位的作用，需要定义shape，和dtype。在执行过程中通过feed_dict传值。\n",
    "```python\n",
    "# 创建\n",
    "v = tf.placeholder(dtype, shape=None, name=None)\n",
    "```"
   ]
  },
  {
   "cell_type": "code",
   "execution_count": 3,
   "metadata": {},
   "outputs": [
    {
     "name": "stdout",
     "output_type": "stream",
     "text": [
      "[[-3.7798672]]\n"
     ]
    }
   ],
   "source": [
    "import tensorflow as tf\n",
    "\n",
    "# 定义输入值\n",
    "x = tf.placeholder(tf.float32, shape=(2, 1), name='input')\n",
    "\n",
    "# 随机生成权重值，采用正太分布\n",
    "w1 = tf.Variable(tf.random_normal((3, 2), stddev=1, seed=1))\n",
    "w2 = tf.Variable(tf.random_normal((1, 3), stddev=1, seed=1))\n",
    "\n",
    "# 定义计算过程\n",
    "h = tf.matmul(w1, x)\n",
    "y = tf.matmul(w2, h)\n",
    "\n",
    "# 定义全局变量初始化\n",
    "init_op = tf.global_variables_initializer()\n",
    "\n",
    "# 开始计算\n",
    "with tf.Session() as sess:\n",
    "    sess.run(init_op)\n",
    "    print(sess.run(y, feed_dict={x: [[0.7],[0.9]]}))"
   ]
  },
  {
   "cell_type": "markdown",
   "metadata": {},
   "source": [
    "定义多维输入值,这里定义三个样本"
   ]
  },
  {
   "cell_type": "code",
   "execution_count": 8,
   "metadata": {},
   "outputs": [
    {
     "name": "stdout",
     "output_type": "stream",
     "text": [
      "[[-3.7798674 -1.8407464 -3.4529805]]\n"
     ]
    }
   ],
   "source": [
    "import tensorflow as tf\n",
    "import numpy as np\n",
    "\n",
    "# 定义输入值（三个样本）\n",
    "x = tf.placeholder(tf.float32, shape=(2, 3), name='input')\n",
    "\n",
    "# 随机生成权重值，采用正太分布\n",
    "w1 = tf.Variable(tf.random_normal((3, 2), stddev=1, seed=1))\n",
    "w2 = tf.Variable(tf.random_normal((1, 3), stddev=1, seed=1))\n",
    "\n",
    "# 定义计算过程\n",
    "h = tf.matmul(w1, x)\n",
    "y = tf.matmul(w2, h)\n",
    "\n",
    "# 定义全局变量初始化\n",
    "init_op = tf.global_variables_initializer()\n",
    "\n",
    "# 定义输入值\n",
    "input_data = np.array([[0.7, 0.9],\n",
    "                      [0.1, 0.4],\n",
    "                      [0.5, 0.8]]).T\n",
    "# 开始计算\n",
    "with tf.Session() as sess:\n",
    "    sess.run(init_op)\n",
    "    print(sess.run(y, feed_dict={x: input_data}))"
   ]
  },
  {
   "cell_type": "markdown",
   "metadata": {},
   "source": [
    "### 1.4.4 反向传播\n",
    "---\n",
    "这里采用交叉熵\n",
    "$$H(p,q)=-\\sum_{i=1}^np(x_i)log(q(x_i))$$\n",
    "其中p为target值的概率，q为预测值的概率"
   ]
  },
  {
   "cell_type": "code",
   "execution_count": 2,
   "metadata": {},
   "outputs": [
    {
     "data": {
      "text/plain": [
       "16"
      ]
     },
     "execution_count": 2,
     "metadata": {},
     "output_type": "execute_result"
    }
   ],
   "source": [
    "16%100"
   ]
  },
  {
   "cell_type": "markdown",
   "metadata": {},
   "source": [
    "### 1.4.5 完整的代码\n",
    "---"
   ]
  },
  {
   "cell_type": "code",
   "execution_count": 10,
   "metadata": {
    "scrolled": true
   },
   "outputs": [
    {
     "name": "stdout",
     "output_type": "stream",
     "text": [
      "w1-->\n",
      " [[-0.8113182   1.4845988   0.06532937]\n",
      " [-2.4427042   0.0992484   0.5912243 ]]\n",
      "w2-->\n",
      " [[-0.8113182 ]\n",
      " [ 1.4845988 ]\n",
      " [ 0.06532937]]\n",
      "After 0 , cross entropy is 1.89805\n",
      "After 1000 , cross entropy is 0.655075\n",
      "After 2000 , cross entropy is 0.626172\n",
      "After 3000 , cross entropy is 0.615096\n",
      "After 4000 , cross entropy is 0.610309\n",
      "new w1\n",
      " [[ 0.02476974  0.56948686  1.6921943 ]\n",
      " [-2.1977353  -0.23668927  1.1143897 ]]\n",
      "new w2\n",
      " [[-0.45544702]\n",
      " [ 0.49110925]\n",
      " [-0.98110336]]\n"
     ]
    }
   ],
   "source": [
    "import tensorflow as tf\n",
    "import numpy as np\n",
    "\n",
    "# 定义batch的大小\n",
    "batch_size = 8\n",
    "\n",
    "# 定义输入值,这里不具体指定样本的数量\n",
    "x = tf.placeholder(tf.float32, shape=(None, 2), name='input')\n",
    "# 定义输出的label\n",
    "y_ = tf.placeholder(tf.float32, shape=(None, 1), name='target')\n",
    "\n",
    "# 随机生成权重值，采用正太分布\n",
    "w1 = tf.Variable(tf.random_normal((2, 3), stddev=1, seed=1))\n",
    "w2 = tf.Variable(tf.random_normal((3, 1), stddev=1, seed=1))\n",
    "\n",
    "# 定义计算过程\n",
    "h = tf.matmul(x, w1)\n",
    "y = tf.matmul(h, w2)\n",
    "\n",
    "# 对输出结果归一化处理\n",
    "y = tf.sigmoid(y)\n",
    "\n",
    "\n",
    "# 求交叉熵，衡量误差\n",
    "cross_entropy = -tf.reduce_mean(\n",
    "    y_ * tf.log(tf.clip_by_value(y, 1e-10, 1.0)) + (1 - y_) * tf.log(tf.clip_by_value(1 - y, 1e-10, 1.0))\n",
    ")\n",
    "\n",
    "train_step = tf.train.AdamOptimizer(0.001).minimize(cross_entropy)\n",
    "\n",
    "# 随机生成模拟数据集\n",
    "rdm = np.random.RandomState(1)\n",
    "dataset_size = 128\n",
    "X = rdm.rand(dataset_size, 2)\n",
    "\n",
    "# 确定target\n",
    "Y = [[int(x1 + x2 < 1)] for (x1, x2) in X]\n",
    "\n",
    "with tf.Session() as sess:   \n",
    "    # 定义全局变量初始化\n",
    "    init_op = tf.global_variables_initializer()\n",
    "    \n",
    "    sess.run(init_op)\n",
    "    print('w1-->\\n', sess.run(w1))\n",
    "    print('w2-->\\n', sess.run(w2))\n",
    "\n",
    "    steps = 5000\n",
    "    for i in range(steps):\n",
    "        start = (i * batch_size) % dataset_size\n",
    "        end = min(start + batch_size, dataset_size)\n",
    "        sess.run(train_step, feed_dict={x: X[start: end], y_: Y[start: end]})\n",
    "        \n",
    "        if i % 1000 == 0:\n",
    "            total_cross_entropy = sess.run(cross_entropy, feed_dict={x: X, y_: Y})\n",
    "            print('After %d , cross entropy is %g' % (i, total_cross_entropy))\n",
    "    print('new w1\\n', sess.run(w1))\n",
    "    print('new w2\\n', sess.run(w2))"
   ]
  },
  {
   "cell_type": "markdown",
   "metadata": {},
   "source": [
    "# 4 深层NN\n",
    "---\n",
    "1. 深度学习与深层神经网络的概念。\n",
    "2. 设定神经网络优化目标(损失函数)-分类问题和回归问题\n",
    "3. 神经网络反向传播算法\n",
    "4. 神经网络优化"
   ]
  },
  {
   "cell_type": "markdown",
   "metadata": {},
   "source": [
    "## 4.1 常用的非线性激活函数\n",
    "---\n",
    "**ReLU函数**\n",
    "$$f(x) = max\\{x, 0\\}$$\n",
    "\n",
    "**sigmoid函数**\n",
    "$$f(x) = \\frac{1}{1 + e^{-x}}$$\n",
    "\n",
    "**tanh函数**\n",
    "$$f(x) = \\frac{1 - e^{-2x}}{1 + e^{-2x}}$$\n",
    "\n",
    "```python\n",
    "tf.nn.relu()\n",
    "tf.nn.sigmoid()\n",
    "tf.nn.tanh()\n",
    "```"
   ]
  },
  {
   "cell_type": "markdown",
   "metadata": {},
   "source": [
    "## 4.2 损失函数\n",
    "---\n",
    "1. 分类问题\n",
    "    - 交叉熵\n",
    "        - 先用softmax将输出结果转成概率分布的形式`tf.nn.softmax()`\n",
    "        - $$H(p, q) = - \\sum_xp(x)log q(x)$$\n",
    "        - p为正确答案的概率分布，q为预测答案的概率分布，这里都可以用概率表示。整体的意义为用q的概率分布来表示p的概率分布的困难程度。\n",
    "        - p和q越接近，交叉熵的值越小。\n",
    "        ```python\n",
    "        # softmax + cross_entropy\n",
    "        cross_entropy = tf.nn.softmax_cross_entropy_with_logits(labels=y_, logits=y)\n",
    "        # 只有一个正确答案的分类问题\n",
    "        tf.nn.softmax_sparse_softmax_cross_entropy_with_logits()\n",
    "        ```\n",
    "        $$softmax(y)_i = \\frac{e^{y_i}}{\\sum_{j=1}^ne^{y_j}}$$\n",
    "2. 回归问题\n",
    "    - MSE(mean squared error)\n",
    "    - $$MSE(y, y^{'}) = \\frac{\\sum_{i=1}^{n}(y_i - y_i^{'})^2}{n}$$\n",
    "    - MSE也常用于分类问题的损失函数\n",
    "    - `tf.reduce_mean(tf.square(y_ - y))`\n",
    "3. 自定义"
   ]
  },
  {
   "cell_type": "markdown",
   "metadata": {},
   "source": [
    "## 4.3 神经网络优化算法\n",
    "---\n",
    "梯度下降算法主要用于优化单个参数的取值，而反向传播算法给出了一个高效的方式在所有的参数上使用梯度下降算法。\n",
    "\n",
    "神经网络的优化过程可以分为两个阶段。\n",
    "1. 先通过前向传播算法得到预测值，并将预测值和实际值做对比得到两者之间的差距。\n",
    "2. 通过反向传播算法计算损失函数对每一个参数的梯度，再根据梯度和学习率使用梯度下降算法更新每一个参数。\n",
    "\n",
    "梯度下降算法存在的不足：\n",
    "1. 不一定能达到全局最优。\n",
    "2. 计算时间太长。\n",
    "\n",
    "为了解决计算时间太长的问题，提出**随机梯度下降算法**，这个算法在每一轮的迭代中，随机优化某一条训练数据上的损失函数。缺点是因为减少了权重跟新的数量，可能无法达到局部最优。\n",
    "\n",
    "为了衡量**梯度下降算法**和**随机梯度下降算法**的优缺点，我们通常会在每一轮训练中，训练一小部分的训练数据，也就是一个batch。"
   ]
  },
  {
   "cell_type": "markdown",
   "metadata": {},
   "source": [
    "## 4.4 网络进一步优化\n",
    "---\n",
    "### 1. 学习率\n",
    "- **指数衰减法**\n",
    "\n",
    "通过指数衰减法的学习率既可以让模型在训练的前期快速接近较优解，又可以保证在训练的后期不会有太大的波动，从而更加接近局部最优。\n",
    "```python\n",
    "    decayed_learning_rate = learning_rate *\n",
    "                    decay_rate ^ (global_step / decay_steps)\n",
    "```\n",
    "- learning_rate:学习率，dency_rate:衰减率，global_step:迭代次数，常为一个数值为0的tensor。decay_steps:衰减速度。eg:每迭代100000次，学习率乘以0.96\n",
    "```python\n",
    "...\n",
    "global_step = tf.Variable(0, trainable=False)\n",
    "starter_learning_rate = 0.1\n",
    "learning_rate = tf.train.exponential_decay(starter_learning_rate, global_step,\n",
    "                                           100000, 0.96, staircase=True)\n",
    "# Passing global_step to minimize() will increment it at each step.\n",
    "learning_step = (\n",
    "    tf.train.GradientDescentOptimizer(learning_rate)\n",
    "    .minimize(...my loss..., global_step=global_step)\n",
    ")\n",
    "```\n",
    "- 对应tf中的函数为：`tf.train.exponential_decay(learning_rate, global_step, decay_steps, decay_rate, staircase=False, name=None)`\n",
    "    - staircase为False，表示连续衰减\n",
    "    - staircase为True，表示阶梯衰减。\n",
    "    \n",
    "### 2. 过拟合\n",
    "- 正则化。正则化是处理过拟合常用的方法。**正则化是针对权重进行操作的**\n",
    "- L1正则化$$R(w) = \\lVert{w}\\rVert_1 = \\sum_i\\lvert{w_i}\\rvert$$\n",
    "- L2正则化$$R(w) = \\lVert{w}\\rVert_1^2 = \\sum_i\\lvert{w_i^2}\\rvert$$\n",
    "- L1和L2同时使用：$$R(w) = \\sum_i\\alpha\\lvert{w_i}\\rvert + (1 - \\alpha)w_i^2$$\n",
    "- 如果损失函数为$J(\\theta)$加入了正则化后，加会变成$J(\\theta) + \\lambda{R(w)}$\n",
    "- eg\n",
    "```python\n",
    "weights = tf.constant([[1.0, -2.0],[-3.0, 4.0]])\n",
    "with tf.Session() as sess:\n",
    "    print(sess.run(tf.contrib.layers.l1_regularizer(0.5)(weights)))\n",
    "    print(sess.run(tf.contrib.layers.l2_regularizer(0.5)(weights)))\n",
    "    print(sess.run(tf.contrib.layers.l1_l2_regularizer(0.5)(weights)))\n",
    "```"
   ]
  },
  {
   "cell_type": "markdown",
   "metadata": {},
   "source": [
    "下一个五层神经网络(3个隐藏层)，带有L2正则化的实现方法。(只是部分实现代码，不做具体实现)"
   ]
  },
  {
   "cell_type": "code",
   "execution_count": 55,
   "metadata": {},
   "outputs": [],
   "source": [
    "import tensorflow as tf\n",
    "\n",
    "# 这里传入一个shape，随机生成一组权重值，并以lambda和权重值得到L2，并加入到tf的collection中\n",
    "def get_weight(shape, lamb):\n",
    "    # 依据给定的shape生成一组正太分布随机值\n",
    "    weights = tf.Variable(tf.random_normal(shape), dtype=tf.float32)\n",
    "    # 计算L2\n",
    "    L2 = tf.contrib.layers.l2_regularizer(lamb)(weights)\n",
    "    tf.add_to_collection('losses', L2)\n",
    "    return weights\n",
    "\n",
    "# 定义输入值\n",
    "x = tf.placeholder(tf.float32, shape=(None, 2))\n",
    "# 定义target值结构\n",
    "y_ = tf.placeholder(tf.float32, shape=(None, 1))\n",
    "\n",
    "batch_size = 8\n",
    "# 定义每一层的节点数\n",
    "layer_dimension = [2, 10, 10, 10, 1]\n",
    "# 层数\n",
    "n_layers = len(layer_dimension)\n",
    "\n",
    "# 定义所在计算层\n",
    "cur_layer = x\n",
    "in_dimension = layer_dimension[0]\n",
    "\n",
    "for i in range(1, n_layers):\n",
    "    # 获取第一层的weights，先确定shape\n",
    "    out_dimension = layer_dimension[i]\n",
    "    weight = get_weight((in_dimension, out_dimension), 0.01)\n",
    "    # 更新当前层的输出值\n",
    "    bias = tf.Variable(tf.constant(0.1, shape=(out_dimension, 1)))\n",
    "    cur_layer = tf.matmul(cur_layer, weight) + bias\n",
    "    in_dimension = out_dimension\n",
    "    \n",
    "# 求损失函数，MSE\n",
    "mse_loss = tf.reduce_mean(tf.square(y_ - cur_layer))\n",
    "tf.add_to_collection('losses', mse_loss)\n",
    "\n",
    "# \n",
    "loss = tf.add_n(tf.get_collection('losses'))\n",
    "\n",
    "## ing\n"
   ]
  },
  {
   "cell_type": "markdown",
   "metadata": {},
   "source": [
    "### 3. 滑动平均模型（对所有训练参数操作）\n",
    "- 在每层的计算中，对权重和偏移量计算一个滑动平均(也理解为对所有神经网络参数的变量上使用滑动平均)\n",
    "- (可以使模型在测试数据上更加的robust).\n",
    "- 适用于**随机梯度下降**训练神经网络时\n",
    "- `tf.train.ExponentialMovingAverage(decay, num_updates=None, zero_debias=False, name='ExponentialMovingAverage')`\n",
    "    - decay越大模型越趋于稳定。\n"
   ]
  },
  {
   "cell_type": "code",
   "execution_count": 59,
   "metadata": {},
   "outputs": [
    {
     "name": "stdout",
     "output_type": "stream",
     "text": [
      "v1=0,step=0\n",
      "[0.0, 0.0]\n",
      "\n",
      "v1=5,step=0\n",
      "[5.0, 4.5]\n",
      "\n",
      "v1=10,step=1000\n",
      "[10.0, 4.555]\n",
      "\n",
      "v1=10, step=1000\n",
      "[10.0, 4.60945]\n"
     ]
    }
   ],
   "source": [
    "# 实现移动平均模型\n",
    "import tensorflow as tf\n",
    "\n",
    "# 创建一个要滑动平均的变量\n",
    "v1 = tf.Variable(0, dtype=tf.float32)\n",
    "\n",
    "# 创建一个维护迭代次数的变量\n",
    "step = tf.Variable(0, trainable=False)\n",
    "\n",
    "# 初始化一个滑动平均类\n",
    "ema = tf.train.ExponentialMovingAverage(0.99, step)\n",
    "\n",
    "# 定义一个变量滑动更新的列表，每次执行这个操作时，列表中的值都会被更新。\n",
    "maintain_average_op = ema.apply([v1])\n",
    "\n",
    "with tf.Session() as sess:\n",
    "    # 对创建的变量进行初始化操作\n",
    "    init_op = tf.global_variables_initializer()\n",
    "    sess.run(init_op)\n",
    "    \n",
    "    # 通过ema.average(v1)获取滑动平均之后的取值，该变量名要在之前的更新列表中\n",
    "    # 由于还没有执行maintain_average_op，所以变量还没有更新\n",
    "    print('v1=0,step=0')\n",
    "    print(sess.run([v1, ema.average(v1)]))\n",
    "    \n",
    "    # 把v1的值设为5，执行一次maintain_average_op，v1滑动一次\n",
    "    sess.run(tf.assign(v1, 5))\n",
    "    sess.run(maintain_average_op)\n",
    "    print('\\nv1=5,step=0')\n",
    "    print(sess.run([v1, ema.average(v1)]))\n",
    "    \n",
    "    # 改变step和v1，执行maintain_average_op，v1滑动一次\n",
    "    sess.run(tf.assign(step, 1000))\n",
    "    sess.run(tf.assign(v1, 10))\n",
    "    sess.run(maintain_average_op)\n",
    "    print('\\nv1=10,step=1000')\n",
    "    print(sess.run([v1, ema.average(v1)]))\n",
    "    \n",
    "    # v1再滑动一次\n",
    "    print('\\nv1=10, step=1000')\n",
    "    sess.run(maintain_average_op)\n",
    "    print(sess.run([v1, ema.average(v1)]))     \n",
    "          "
   ]
  },
  {
   "cell_type": "markdown",
   "metadata": {},
   "source": [
    "## 知识点\n",
    "---\n",
    "1. **sigmoid** 是非线性激活函数，常用的非线性激活函数还有**tanh**和**ReLU**\n",
    "2. **softmax回归**用于将神经网络的前向传播结果变成一个**概率分布**。\n",
    "3. **梯度下降算法**是更新单个节点权重，**反向传播算法**是实现对所有的节点更新权重，**随机梯度下降算法**是为解决梯度下降算法运行时间过长的问题。\n",
    "4. 学习率优化，过拟合，滑动平均都是对神经网络的进一步优化。学习率优化常采用**指数衰减学习率**的方法。针对过拟合采用**正则化**的方法。采用**滑动平均**对训练参数进行优化。"
   ]
  },
  {
   "cell_type": "markdown",
   "metadata": {},
   "source": [
    "# 5 MNIST\n",
    "---\n",
    "该数据集包含三部分：训练集、验证集、测试集。"
   ]
  },
  {
   "cell_type": "code",
   "execution_count": 15,
   "metadata": {},
   "outputs": [
    {
     "name": "stdout",
     "output_type": "stream",
     "text": [
      "Extracting D:/softfiles/workspace/data/tensorflow/data/train-images-idx3-ubyte.gz\n",
      "Extracting D:/softfiles/workspace/data/tensorflow/data/train-labels-idx1-ubyte.gz\n",
      "Extracting D:/softfiles/workspace/data/tensorflow/data/t10k-images-idx3-ubyte.gz\n",
      "Extracting D:/softfiles/workspace/data/tensorflow/data/t10k-labels-idx1-ubyte.gz\n"
     ]
    }
   ],
   "source": [
    "# 从指定路径获取数据集，或者将数据集下载到指定路径\n",
    "from tensorflow.examples.tutorials.mnist import input_data\n",
    "\n",
    "mnist = input_data.read_data_sets('D:/softfiles/workspace/data/tensorflow/data/', one_hot=True)"
   ]
  },
  {
   "cell_type": "markdown",
   "metadata": {},
   "source": [
    "## 5.1 完整案例\n",
    "---\n",
    "优化代码详见以下文件：\n",
    "- `mnist_inference.py`\n",
    "- `mnist_train.py`\n",
    "- `mnist_eval.py`"
   ]
  },
  {
   "cell_type": "code",
   "execution_count": 5,
   "metadata": {},
   "outputs": [
    {
     "name": "stdout",
     "output_type": "stream",
     "text": [
      "Extracting D:/softfiles/workspace/tensorflow/data/train-images-idx3-ubyte.gz\n",
      "Extracting D:/softfiles/workspace/tensorflow/data/train-labels-idx1-ubyte.gz\n",
      "Extracting D:/softfiles/workspace/tensorflow/data/t10k-images-idx3-ubyte.gz\n",
      "Extracting D:/softfiles/workspace/tensorflow/data/t10k-labels-idx1-ubyte.gz\n",
      "After 0 training steps, validation accuracy using average model is 0.1116\n",
      "After 1000 training steps, validation accuracy using average model is 0.9792\n",
      "After 2000 training steps, validation accuracy using average model is 0.9818\n",
      "After 3000 training steps, validation accuracy using average model is 0.9828\n",
      "After 4000 training steps, validation accuracy using average model is 0.9834\n",
      "After 5000 training steps, validation accuracy using average model is 0.9838\n",
      "After 6000 training steps, validation accuracy using average model is 0.984\n",
      "After 7000 training steps, validation accuracy using average model is 0.9842\n",
      "After 8000 training steps, validation accuracy using average model is 0.9846\n",
      "After 9000 training steps, validation accuracy using average model is 0.9848\n",
      "After 10000 training steps, test accuracy using average model is 0.9846\n"
     ]
    },
    {
     "ename": "SystemExit",
     "evalue": "0",
     "output_type": "error",
     "traceback": [
      "An exception has occurred, use %tb to see the full traceback.\n",
      "\u001b[1;31mSystemExit\u001b[0m\u001b[1;31m:\u001b[0m 0\n"
     ]
    },
    {
     "name": "stderr",
     "output_type": "stream",
     "text": [
      "D:\\softfiles\\programs\\anaconda3\\envs\\tensorflow\\lib\\site-packages\\IPython\\core\\interactiveshell.py:2870: UserWarning: To exit: use 'exit', 'quit', or Ctrl-D.\n",
      "  warn(\"To exit: use 'exit', 'quit', or Ctrl-D.\", stacklevel=1)\n"
     ]
    }
   ],
   "source": [
    "import sys\n",
    "import tensorflow as tf\n",
    "from tensorflow.examples.tutorials.mnist import input_data\n",
    "\n",
    "# 定义各层的节点数，这里只使用一个隐藏层\n",
    "# 输入层节点数，每个图片的像素为28 * 28\n",
    "INPUT_NODES = 28 * 28\n",
    "\n",
    "# 输出层节点数\n",
    "OUTPUT_NODES = 10\n",
    "\n",
    "# 隐藏层节点数\n",
    "HIDDEN_NODES = 500\n",
    "\n",
    "# 定义每轮训练的样本数量\n",
    "BATCH_SIZE = 100\n",
    "\n",
    "# 定义滑动平均参数\n",
    "MOVING_AVERAGE_DECAY = 0.99\n",
    "\n",
    "# 定义正则化参数\n",
    "REGULARIZATION_RATE = 0.0001\n",
    "\n",
    "\n",
    "# 定义学习率优化参数\n",
    "# 学习率\n",
    "LEARNING_RATE_BASE = 0.8\n",
    "# 下降率\n",
    "LEARNING_RATE_DECAY = 0.99\n",
    "\n",
    "# 训练次数\n",
    "TRAINING_STEPS = 10000\n",
    "\n",
    "# 获取预测值，如果没有avg_class即滑动平均类，则直接计算输出，最后一层输出不用再激活，会在损失函数计算中\n",
    "# 一起计算。如果给了滑动平均类，则对添加进更新列表中的参数执行一次滑动平均。\n",
    "def getFinalOutput(input_tensor, weights1, biases1, weights2, biases2, avg_class=None):\n",
    "    if avg_class == None:\n",
    "        layer1 = tf.nn.relu(tf.matmul(input_tensor, weights1) + biases1)\n",
    "        return tf.matmul(layer1, weights2) + biases2\n",
    "    else:\n",
    "        layer1 = tf.nn.relu(tf.matmul(input_tensor, avg_class.average(weights1)) + avg_class.average(biases1))\n",
    "        return tf.matmul(layer1, avg_class.average(weights2)) + avg_class.average(biases2)\n",
    "\n",
    "\n",
    "# 训练\n",
    "def train(mnist):\n",
    "    # 定义输入值和输出值\n",
    "    x = tf.placeholder(tf.float32, shape=(None, INPUT_NODES), name='input')\n",
    "    y_ = tf.placeholder(tf.float32, shape=(None, OUTPUT_NODES), name='output')\n",
    "    \n",
    "    # 初始化权重和偏移量\n",
    "    weights1 = tf.Variable(tf.truncated_normal((INPUT_NODES, HIDDEN_NODES), stddev=0.1))\n",
    "    biases1 = tf.Variable(tf.constant(0.1, shape=(HIDDEN_NODES,)))\n",
    "    \n",
    "    weights2 = tf.Variable(tf.truncated_normal((HIDDEN_NODES, OUTPUT_NODES), stddev=0.1))\n",
    "    biases2 = tf.Variable(tf.constant(0.1, shape=(OUTPUT_NODES,)))\n",
    "    \n",
    "    # 定义一个没有滑动平均的输出值\n",
    "    output = getFinalOutput(x, weights1, biases1, weights2, biases2)\n",
    "    \n",
    "    # 创建滑动平均类\n",
    "    GLOBAL_STEP = tf.Variable(0, trainable=False)\n",
    "    variable_averages = tf.train.ExponentialMovingAverage(MOVING_AVERAGE_DECAY, GLOBAL_STEP)\n",
    "    # 这里把所有的trainable变量加入到滑动平均类更新列表中\n",
    "    variable_averages_op = variable_averages.apply(tf.trainable_variables())\n",
    "    \n",
    "    # 获取滑动平均的预测\n",
    "    average_output = getFinalOutput(x, weights1, biases1, weights2, biases2, variable_averages)\n",
    "    \n",
    "    # 计算损失函数交叉熵+softmax\n",
    "    cross_entropy = tf.nn.sparse_softmax_cross_entropy_with_logits(logits=output, labels=tf.argmax(y_, 1))\n",
    "    cross_entropy_mean = tf.reduce_mean(cross_entropy)\n",
    "    \n",
    "    # 防止过拟合，添加正则项，这里只对权重操作，\n",
    "    regularizer = tf.contrib.layers.l2_regularizer(REGULARIZATION_RATE)\n",
    "    regularization = regularizer(weights1) + regularizer(weights2)\n",
    "    \n",
    "    # 最终损失函数\n",
    "    loss = cross_entropy_mean + regularization\n",
    "    \n",
    "    # 定义衰减学习率(指数衰减法)\n",
    "    LEARNING_RATE = tf.train.exponential_decay(LEARNING_RATE_BASE, GLOBAL_STEP, mnist.train.num_examples / BATCH_SIZE, LEARNING_RATE_DECAY)\n",
    "    \n",
    "    # 梯度下降更新权重值\n",
    "    gdo = tf.train.GradientDescentOptimizer(LEARNING_RATE)\n",
    "    train_step = gdo.minimize(loss, global_step = GLOBAL_STEP)\n",
    "    \n",
    "    # 打包更新操作，这里有两个动作，train_step,variable_averages_op\n",
    "    with tf.control_dependencies([train_step, variable_averages_op]):\n",
    "        train_op = tf.no_op(name='train')\n",
    "    \n",
    "    # 输出正确率\n",
    "    correct_predict = tf.equal(tf.argmax(average_output, 1), tf.argmax(y_, 1))\n",
    "    accuracy = tf.reduce_mean(tf.cast(correct_predict, tf.float32))\n",
    "    \n",
    "    # 初始会话\n",
    "    with tf.Session() as sess:\n",
    "        tf.global_variables_initializer().run()\n",
    "        \n",
    "        validate_feed = {x: mnist.validation.images, y_: mnist.validation.labels}\n",
    "        test_feed = {x: mnist.validation.images, y_: mnist.validation.labels}\n",
    "        for i in range(TRAINING_STEPS):\n",
    "            if i % 1000 == 0:\n",
    "                validate_acc = sess.run(accuracy, validate_feed)\n",
    "                print('After %d training steps, validation accuracy using average model is %g' % (i, validate_acc))\n",
    "            xs, ys = mnist.train.next_batch(BATCH_SIZE)\n",
    "            sess.run(train_op, feed_dict={x: xs, y_: ys})\n",
    "        \n",
    "        test_acc = sess.run(accuracy, test_feed)\n",
    "        print('After %d training steps, test accuracy using average model is %g' % (TRAINING_STEPS, test_acc))\n",
    "    \n",
    "\n",
    "def main(argv=None):\n",
    "    mnist = input_data.read_data_sets('D:/softfiles/workspace/tensorflow/data/', one_hot=True)\n",
    "    train(mnist)\n",
    "    return 0\n",
    "\n",
    "if __name__ == '__main__':\n",
    "    \n"
   ]
  },
  {
   "cell_type": "markdown",
   "metadata": {},
   "source": [
    "## 5.2 使用验证数据集判断模型\n",
    "---\n",
    "在进行模型训练开始之前我们需要设定参数的取值，如何确定这些取值，如果直接采用训练数据，会出现过度拟合的情形，所以这就是验证数据集的作用，通过使用验证数据集对各参数的取值进行验证，以得到最优参数范围。除了使用验证数据集，我们也可以使用**交叉验证**的方法来进行参数选择，但是交叉验证效率较低。\n",
    "\n",
    "1. 从训练数据中选取一部分做验证数据。\n",
    "2. 采用cross validation(对于大批量数据耗时交久，因为交叉验证常会测试多次)"
   ]
  },
  {
   "cell_type": "markdown",
   "metadata": {},
   "source": [
    "## 5.3 变量管理\n",
    "---\n",
    "这里引入了scope的概念，进一步优化变量的管理，通过使用scope，可以指定变量的所属域，可以通过参数reuse决定是创建变量还是引用变量。**reuse**很重要。get_variable创建变量时，必须先指定域名和变量名，shape，initializer\n",
    "### 创建变量\n",
    "```python\n",
    "tf.get_variable(name, shape, initializer) # 创建或获取\n",
    "tf.Variable()\n",
    "```\n",
    "\n",
    "\n",
    "### 获取变量\n",
    "```python\n",
    "tf.get_variable(name) # 要配合tf.variable_scope(name, reuse)生成一个context manager使用\n",
    "\n",
    "# reuse为True则获取域内变量，为False则在域内创建变量\n",
    "with tf.variable_scope('foo', reuse=False):\n",
    "    tf.get_variable('name')\n",
    "    \n",
    "#\n",
    "```\n",
    "\n",
    "### 变量初始化函数\n",
    "用于`tf.get_variable()中的initializer属性`\n",
    "```python\n",
    "# 常量初始化\n",
    "tf.constant_initializer()\n",
    "# 正太分布\n",
    "tf.random_normal_initializer()\n",
    "# 正太分布，偏离度在两个标准差内\n",
    "tf.truncated_normal_initializer()\n",
    "# 平均分布\n",
    "tf.random_uniform_initializer()\n",
    "# 平均分布\n",
    "tf.uniform_unit_scaling_initializer()\n",
    "tf.zeros_initializer()\n",
    "tf.ones_initializer()\n",
    "```"
   ]
  },
  {
   "cell_type": "markdown",
   "metadata": {},
   "source": [
    "## 5.4 tf模型持久化\n",
    "---\n",
    "### 保存\n",
    "```python\n",
    "saver = tf.train.Saver()\n",
    "with tf.Session() as sess:\n",
    "    sess.run(init_op)\n",
    "    saver.save(sess, '/path/to/model/model.ckpt')\n",
    "```\n",
    "- tf模型常采用 **.ckpt**为后缀名\n",
    "- 保存后会生成四个文件\n",
    "    - checkpoint\n",
    "    - model.ckpt.data-00000-of-00001 变量值\n",
    "    - model.ckpt.index 变量值\n",
    "    - model.ckpt.meta 保存计算图的结构\n",
    "\n",
    "### 读取\n",
    "```python\n",
    "saver = tf.train.Saver()\n",
    "with tf.Session() as sess:\n",
    "    # 不需要变量初始化，直接读取保存的数据\n",
    "    saver.restore(sess, path)\n",
    "```"
   ]
  },
  {
   "cell_type": "markdown",
   "metadata": {},
   "source": [
    "**将变量保存到/model文件夹中**"
   ]
  },
  {
   "cell_type": "code",
   "execution_count": 1,
   "metadata": {},
   "outputs": [],
   "source": [
    "import tensorflow as tf\n",
    "\n",
    "v1 = tf.Variable(tf.constant(1.0, shape=(1,)), name='v1')\n",
    "v2 = tf.Variable(tf.constant(2.0, shape=(1,)), name='v2')\n",
    "result = v1 + v2\n",
    "\n",
    "init_op = tf.global_variables_initializer()\n",
    "saver = tf.train.Saver()\n",
    "with tf.Session() as sess:\n",
    "    sess.run(init_op)\n",
    "    saver.save(sess, './model/model.ckpt')"
   ]
  },
  {
   "cell_type": "markdown",
   "metadata": {},
   "source": [
    "**读取保存的变量,不需要初始化操作,原则上所有变量只有经过初始化才会在加载到执行空间，因为之前保存的就是执行空间中的变量的值，所以不进行初始化也能操作。**"
   ]
  },
  {
   "cell_type": "code",
   "execution_count": 1,
   "metadata": {},
   "outputs": [
    {
     "name": "stdout",
     "output_type": "stream",
     "text": [
      "INFO:tensorflow:Restoring parameters from ./model/model.ckpt\n",
      "[3.]\n"
     ]
    }
   ],
   "source": [
    "import tensorflow as tf\n",
    "\n",
    "v1 = tf.Variable(tf.constant(1.0, shape=(1,)), name='v1')\n",
    "v2 = tf.Variable(tf.constant(2.0, shape=(1,)), name='v2')\n",
    "result = v1 + v2\n",
    "\n",
    "saver = tf.train.Saver()\n",
    "with tf.Session() as sess:\n",
    "    saver.restore(sess, './model/model.ckpt')\n",
    "    print(sess.run(result))"
   ]
  },
  {
   "cell_type": "markdown",
   "metadata": {},
   "source": [
    "**也可以直接通过.meta文件读取计算图结构**"
   ]
  },
  {
   "cell_type": "code",
   "execution_count": 4,
   "metadata": {},
   "outputs": [
    {
     "name": "stdout",
     "output_type": "stream",
     "text": [
      "INFO:tensorflow:Restoring parameters from ./model/model.ckpt\n",
      "[<tf.Variable 'v1:0' shape=(1,) dtype=float32_ref>, <tf.Variable 'v2:0' shape=(1,) dtype=float32_ref>]\n",
      "[3.]\n"
     ]
    }
   ],
   "source": [
    "import tensorflow as tf\n",
    "\n",
    "saver = tf.train.import_meta_graph('./model/model.ckpt.meta')\n",
    "with tf.Session() as sess:\n",
    "    saver.restore(sess, './model/model.ckpt')\n",
    "    print(tf.global_variables())\n",
    "    print(sess.run(tf.get_default_graph().get_tensor_by_name('add:0')))"
   ]
  },
  {
   "cell_type": "markdown",
   "metadata": {},
   "source": [
    "**保存滑动平均的shadow变量**"
   ]
  },
  {
   "cell_type": "code",
   "execution_count": 1,
   "metadata": {},
   "outputs": [
    {
     "name": "stdout",
     "output_type": "stream",
     "text": [
      "[<tf.Variable 'v:0' shape=() dtype=float32_ref>]\n",
      "\n",
      "after ema-->\n",
      " [<tf.Variable 'v:0' shape=() dtype=float32_ref>, <tf.Variable 'v/ExponentialMovingAverage:0' shape=() dtype=float32_ref>]\n",
      "\n",
      "save-->\n",
      " [<tf.Variable 'v:0' shape=() dtype=float32_ref>, <tf.Variable 'v/ExponentialMovingAverage:0' shape=() dtype=float32_ref>]\n",
      "[10.0, 0.099999905]\n"
     ]
    }
   ],
   "source": [
    "import tensorflow as tf\n",
    "\n",
    "v = tf.Variable(0, dtype=tf.float32, name='v')\n",
    "print(tf.global_variables())\n",
    "\n",
    "ema = tf.train.ExponentialMovingAverage(0.99)\n",
    "average_op = ema.apply(tf.global_variables())\n",
    "print('\\nafter ema-->\\n', tf.global_variables())\n",
    "\n",
    "saver = tf.train.Saver()\n",
    "with tf.Session() as sess:\n",
    "    tf.global_variables_initializer().run()\n",
    "    sess.run(tf.assign(v, 10))\n",
    "    sess.run(average_op)\n",
    "    print('\\nsave-->\\n', tf.global_variables())\n",
    "    saver.save(sess, './model/model.ckpt')\n",
    "    print(sess.run([v, ema.average(v)]))"
   ]
  },
  {
   "cell_type": "markdown",
   "metadata": {},
   "source": [
    "**取出保存的shadow变量**"
   ]
  },
  {
   "cell_type": "code",
   "execution_count": 1,
   "metadata": {
    "scrolled": false
   },
   "outputs": [
    {
     "name": "stdout",
     "output_type": "stream",
     "text": [
      "{'v/ExponentialMovingAverage': <tf.Variable 'v:0' shape=() dtype=float32_ref>}\n",
      "INFO:tensorflow:Restoring parameters from ./model/model.ckpt\n",
      "0.099999905\n"
     ]
    }
   ],
   "source": [
    "import tensorflow as tf\n",
    "\n",
    "v = tf.Variable(0, dtype=tf.float32, name='v')\n",
    "ema = tf.train.ExponentialMovingAverage(0.99)\n",
    "# ema.variables_to_restore()函数的作用用于生成变量重命名字典。只对trainable为true的变量生成有效的重命名字典。\n",
    "print(ema.variables_to_restore())\n",
    "\n",
    "saver = tf.train.Saver(ema.variables_to_restore())\n",
    "with tf.Session() as sess:\n",
    "    saver.restore(sess, './model/model.ckpt')\n",
    "    print(sess.run(v))"
   ]
  },
  {
   "cell_type": "markdown",
   "metadata": {},
   "source": [
    "**将变量转成常量保存到一个文件**"
   ]
  },
  {
   "cell_type": "code",
   "execution_count": 1,
   "metadata": {},
   "outputs": [
    {
     "name": "stdout",
     "output_type": "stream",
     "text": [
      "INFO:tensorflow:Froze 2 variables.\n",
      "Converted 2 variables to const ops.\n"
     ]
    }
   ],
   "source": [
    "import tensorflow as tf\n",
    "from tensorflow.python.framework import graph_util\n",
    "\n",
    "v1 = tf.Variable(1.0, name='v1')\n",
    "v2 = tf.Variable(2.0, name='v2')\n",
    "result = v1 + v2\n",
    "\n",
    "init_op = tf.global_variables_initializer()\n",
    "with tf.Session() as sess:\n",
    "    sess.run(init_op)\n",
    "    graph = tf.get_default_graph().as_graph_def()\n",
    "    \n",
    "    output_graph_def = graph_util.convert_variables_to_constants(sess, graph, ['add'])\n",
    "    with tf.gfile.GFile('./model/combined_model.pb', 'wb') as f:\n",
    "        f.write(output_graph_def.SerializeToString())"
   ]
  },
  {
   "cell_type": "markdown",
   "metadata": {},
   "source": [
    "**读取**"
   ]
  },
  {
   "cell_type": "code",
   "execution_count": 1,
   "metadata": {},
   "outputs": [
    {
     "name": "stdout",
     "output_type": "stream",
     "text": [
      "[3.0]\n"
     ]
    }
   ],
   "source": [
    "import tensorflow as tf\n",
    "from tensorflow.python.platform import gfile\n",
    "\n",
    "with tf.Session() as sess:\n",
    "    model_filename = './model/combined_model.pb'\n",
    "    with gfile.FastGFile(model_filename, 'rb') as f:\n",
    "        graph_def = tf.GraphDef()\n",
    "        graph_def.ParseFromString(f.read())\n",
    "    result = tf.import_graph_def(graph_def, return_elements=['add:0'])\n",
    "    print(sess.run(result))  "
   ]
  },
  {
   "cell_type": "markdown",
   "metadata": {},
   "source": [
    "## 5.5 Minist案例优化\n",
    "优化代码详见以下文件：\n",
    "- `mnist_inference.py`\n",
    "- `mnist_train.py`\n",
    "- `mnist_eval.py`"
   ]
  },
  {
   "cell_type": "markdown",
   "metadata": {},
   "source": [
    "# 6 图像识别和卷积神经网络\n",
    "---\n"
   ]
  },
  {
   "cell_type": "markdown",
   "metadata": {},
   "source": [
    "## 6.1 introduction\n",
    "---\n",
    "常见的卷积神经网络主要由五种结构组成\n",
    "1. 输入层：一个图片常用**三维矩阵**表示，长*宽*色彩通道\n",
    "2. 卷积层：卷积层的每一个节点的输入是上一层神经网络的一小块，进行**特征提取**，相应的**深度会增加**。\n",
    "3. 池化层：神经网络的**深度不变**，**长宽缩小**。起到**降低分辨率**的作用，减少节点数，从而减少参数。\n",
    "4. 全连接层：经过多轮的卷积和池化，样本会被抽象成信息含量更高的特征，可以理解为，卷积和池化是一个特征提取过程。**特征提取**之后仍然需要**全连接进行分类任务**。一般会有1到2个全连接层。\n",
    "5. Softmax层：获取**概率分布**，得到分类结果。"
   ]
  },
  {
   "cell_type": "markdown",
   "metadata": {},
   "source": [
    "## 6.2 卷积层\n",
    "---\n",
    "卷积层的结构也称过滤器或者内核。它可以将神经网络中的子节点转换为一个单位节点矩阵。\n",
    "\n",
    "1. 过滤器需要人工设定内容有：长、宽、深度。\n",
    "2. 每一个卷积层中的过滤器的参数都是一样的。过滤器的参数共享\n",
    "\n",
    "\n",
    "在声明过滤器的变量，通常会声明一个四维的矩阵，前两个维度代表过滤器的尺寸，第三个维度代表当前层的深度，第四个维度代表过滤器的深度。\n",
    "```python\n",
    "# 声明一个5*5的核大小，输入层深度为3，输出深度为16\n",
    "filter_weight = tf.get_variable('weights', [5, 5, 3, 16], initializer=tf.truncated_normal_initializer(stddev=0.1))\n",
    "\n",
    "# 声明一个偏置项\n",
    "biases = tf.get_variable('biases', [16], initializer=tf.constant_initializer(0.1))\n",
    "\n",
    "# tf.nn.conv2d实现卷积层的前向传播，\n",
    "# （当前层节点矩阵[batch,长，宽，深度]，卷积层矩阵[长，宽，输入深度，输出深度]，步长[1，x, x, 1]，padding[SAME OR VALID]）\n",
    "conv = tf.nn.conv2d(input, filter_weight, [1, 1, 1, 1], padding='SAME')\n",
    "\n",
    "bias = tf.nn.bias_add(conv, biases)\n",
    "\n",
    "actived_conv = tf.nn.relu(bias)\n",
    "```"
   ]
  },
  {
   "cell_type": "markdown",
   "metadata": {},
   "source": [
    "## 6.3 池化层\n",
    "---\n",
    "1. 池化层能有效的缩小矩阵的尺寸，从而减少最后全连接层的参数。\n",
    "2. 可以加快计算速度，可以防止过拟合的作用。\n",
    "3. 分为**最大池化层**和**平均池化层**\n",
    "4. 池化层除了要在长和宽两个维度上移动还要在深度上上移动。而卷积层的过滤器是横跨整个深度的。\n",
    "\n",
    "\n",
    "**设定**：需要人工设定过滤器的尺寸、是否全零填充、移动步长。\n",
    "```python\n",
    "pool = tf.nn.max_pool(actived_conv, ksize=[1, 3, 3, 1], strides=[1, 2, 2, 1], padding='SAME')\n",
    "```"
   ]
  },
  {
   "cell_type": "markdown",
   "metadata": {},
   "source": [
    "## 6.4 LeNet-5\n",
    "---\n",
    "- `myLeNet.py`重写了mnist_inference.py部分，mnist_train.py要对输入shape修改以下，mnist_eval.py可以直接使用。\n",
    "\n",
    "图片分类问题的卷积神经网络架构为\n",
    "$$输入层 \\to (卷积层+ \\to 池化层?) + \\to 全连接层+$$"
   ]
  },
  {
   "cell_type": "markdown",
   "metadata": {},
   "source": [
    "## 6.5 Inception-v3\n",
    "---\n",
    "LeNet-5模型中，不同卷积层通过串联的方式连接到一起，而Inception-v3模型中的Inception结构是将不同的卷积层通过并联的方式结合到一起。\n",
    "\n",
    "**用Slim**实现inception-v3中的一个模块。\n",
    "```python\n",
    "tf.contrib.slim.conv2d(inputs, num_outputs, kernel_size, stride=1, padding='SAME')\n",
    "```"
   ]
  },
  {
   "cell_type": "markdown",
   "metadata": {},
   "source": [
    "## 6.6 迁移学习\n",
    "---\n",
    "将一个问题上训练好的模型通过简单的调整使其适用于一个新的问题。"
   ]
  },
  {
   "cell_type": "code",
   "execution_count": 8,
   "metadata": {},
   "outputs": [
    {
     "data": {
      "text/plain": [
       "[('.',\n",
       "  ['.ipynb_checkpoints', 'data', 'model', 'tfrecord', '__pycache__'],\n",
       "  ['index.ipynb',\n",
       "   'mnist_eval.py',\n",
       "   'mnist_inference.py',\n",
       "   'mnist_train.py',\n",
       "   'myLeNet.py',\n",
       "   'myMnist.py',\n",
       "   'readme.md',\n",
       "   'test.py']),\n",
       " ('.\\\\.ipynb_checkpoints', [], ['index-checkpoint.ipynb']),\n",
       " ('.\\\\data', [], ['picture.png', 'picture1.png']),\n",
       " ('.\\\\model',\n",
       "  ['mnist'],\n",
       "  ['checkpoint',\n",
       "   'combined_model.pb',\n",
       "   'model.ckpt.data-00000-of-00001',\n",
       "   'model.ckpt.index',\n",
       "   'model.ckpt.meta']),\n",
       " ('.\\\\model\\\\mnist',\n",
       "  [],\n",
       "  ['checkpoint',\n",
       "   'model.ckpt-5001.data-00000-of-00001',\n",
       "   'model.ckpt-5001.index',\n",
       "   'model.ckpt-5001.meta',\n",
       "   'model.ckpt-6001.data-00000-of-00001',\n",
       "   'model.ckpt-6001.index',\n",
       "   'model.ckpt-6001.meta',\n",
       "   'model.ckpt-7001.data-00000-of-00001',\n",
       "   'model.ckpt-7001.index',\n",
       "   'model.ckpt-7001.meta',\n",
       "   'model.ckpt-8001.data-00000-of-00001',\n",
       "   'model.ckpt-8001.index',\n",
       "   'model.ckpt-8001.meta',\n",
       "   'model.ckpt-9001.data-00000-of-00001',\n",
       "   'model.ckpt-9001.index',\n",
       "   'model.ckpt-9001.meta']),\n",
       " ('.\\\\tfrecord', [], ['data-00000-of-00002', 'data-00001-of-00002']),\n",
       " ('.\\\\__pycache__',\n",
       "  [],\n",
       "  ['mnist_inference.cpython-36.pyc', 'mnist_train.cpython-36.pyc'])]"
      ]
     },
     "execution_count": 8,
     "metadata": {},
     "output_type": "execute_result"
    }
   ],
   "source": [
    "import glob\n",
    "import os.path\n",
    "import numpy as np\n",
    "import tensorflow as tf\n",
    "from tensorflow.python.platform import gfile\n",
    "\n",
    "INPUT_DATA = ''\n",
    "OUTPUT_FILE = ''\n",
    "\n",
    "VALIDATION_PERCENTAGE = 10\n",
    "TEST_PERCENTAGE = 10\n",
    "\n",
    "def create_image_list(sess, testing_percentage, validation_percentage):\n",
    "    sub_dirs = [x[0] for x in os.walk(INPUT_DATA)]\n",
    "    \n",
    "    training_images = []\n",
    "    training_labels = []\n",
    "    validation_images = []\n",
    "    validation_labels = []\n",
    "    testing_images = []\n",
    "    testing_labels = []\n",
    "    \n",
    "    for sub_dir in sub_dirs:\n",
    "        extensions = ['jpg', 'jpeg', 'JPG', 'JPEG']\n",
    "        file_list = []\n",
    "        dir_name = os.path.basename(sub_dir)\n",
    "        file_list.extend(glob.glob())"
   ]
  },
  {
   "cell_type": "code",
   "execution_count": null,
   "metadata": {},
   "outputs": [],
   "source": [
    "import tensorflow.contrib.slim.python.slim.nets.inception_v3 as "
   ]
  },
  {
   "cell_type": "markdown",
   "metadata": {},
   "source": [
    "# 7 图像数据处理\n",
    "---"
   ]
  },
  {
   "cell_type": "markdown",
   "metadata": {},
   "source": [
    "## 7.1 TFRecord"
   ]
  },
  {
   "cell_type": "markdown",
   "metadata": {},
   "source": [
    "> ### 对输入数据进行统一格式处理，这里转成tfrecord格式\n",
    "\n",
    "把mnist训练集的数据和label提取出来，转成tfrecord格式保存到本地。\n",
    "\n",
    "`Example --> Features --> Feature`\n",
    "```python\n",
    "tf.train.Example(features=tf.train.Features(feature={'xxx': ...}))\n",
    "```"
   ]
  },
  {
   "cell_type": "code",
   "execution_count": 2,
   "metadata": {},
   "outputs": [
    {
     "name": "stdout",
     "output_type": "stream",
     "text": [
      "Extracting D:/softfiles/workspace/tensorflow/data/train-images-idx3-ubyte.gz\n",
      "Extracting D:/softfiles/workspace/tensorflow/data/train-labels-idx1-ubyte.gz\n",
      "Extracting D:/softfiles/workspace/tensorflow/data/t10k-images-idx3-ubyte.gz\n",
      "Extracting D:/softfiles/workspace/tensorflow/data/t10k-labels-idx1-ubyte.gz\n",
      "55000\n"
     ]
    }
   ],
   "source": [
    "import numpy as np\n",
    "import tensorflow as tf\n",
    "from tensorflow.examples.tutorials.mnist import input_data\n",
    "\n",
    "# 生成整型属性\n",
    "def _int64_feature(value):\n",
    "    return tf.train.Feature(int64_list=tf.train.Int64List(value=[value]))\n",
    "\n",
    "# 生成字符串型属性\n",
    "def _bytes_feature(value):\n",
    "    return tf.train.Feature(bytes_list=tf.train.BytesList(value=[value]))\n",
    "\n",
    "mnist = input_data.read_data_sets('D:/softfiles/workspace/tensorflow/data/',\n",
    "                                  dtype=tf.uint8, one_hot=True)\n",
    "\n",
    "images = mnist.train.images\n",
    "\n",
    "labels = mnist.train.labels\n",
    "\n",
    "# 像素 28 * 28\n",
    "pixels = images.shape[1]\n",
    "\n",
    "num_examples = mnist.train.num_examples\n",
    "print(num_examples)\n",
    "filename = './tfrecord/output.tfrecords'\n",
    "writer = tf.python_io.TFRecordWriter(filename)\n",
    "\n",
    "for index in range(num_examples):\n",
    "    # 把图像转为字符串\n",
    "    image_raw = images[index].tostring()\n",
    "    example = tf.train.Example(features=tf.train.Features(feature={\n",
    "        'pixels': _int64_feature(pixels),\n",
    "        'label': _int64_feature(np.argmax(labels[index])),\n",
    "        'image_raw': _bytes_feature(image_raw)\n",
    "    }))\n",
    "    \n",
    "    writer.write(example.SerializeToString())\n",
    "writer.close()\n",
    "# 大概会生成一个50M左右的文件"
   ]
  },
  {
   "cell_type": "markdown",
   "metadata": {},
   "source": [
    "> ### 从tfrecord文件中提取数据 "
   ]
  },
  {
   "cell_type": "code",
   "execution_count": 17,
   "metadata": {},
   "outputs": [
    {
     "name": "stdout",
     "output_type": "stream",
     "text": [
      "[7, 784]\n",
      "[3, 784]\n",
      "[4, 784]\n",
      "[6, 784]\n",
      "[1, 784]\n",
      "[8, 784]\n",
      "[1, 784]\n",
      "[0, 784]\n",
      "[9, 784]\n",
      "[8, 784]\n",
      "INFO:tensorflow:Error reported to Coordinator: <class 'tensorflow.python.framework.errors_impl.CancelledError'>, Enqueue operation was cancelled\n",
      "\t [[Node: input_producer_4/input_producer_4_EnqueueMany = QueueEnqueueManyV2[Tcomponents=[DT_STRING], timeout_ms=-1, _device=\"/job:localhost/replica:0/task:0/device:CPU:0\"](input_producer_4, input_producer_4/RandomShuffle)]]\n"
     ]
    }
   ],
   "source": [
    "import tensorflow as tf\n",
    "\n",
    "reader = tf.TFRecordReader()\n",
    "\n",
    "filename_queue = tf.train.string_input_producer(['./tfrecord/output.tfrecords'])\n",
    "\n",
    "# print(reader.read(filename_queue))\n",
    "# 读取一个sample\n",
    "_, serialized_example = reader.read(filename_queue)\n",
    "\n",
    "# parse a sample\n",
    "features = tf.parse_single_example(serialized_example,\n",
    "                                  features={\n",
    "                                      'image_raw': tf.FixedLenFeature([], tf.string),\n",
    "                                      'pixels': tf.FixedLenFeature([], tf.int64),\n",
    "                                      'label': tf.FixedLenFeature([], tf.int64)\n",
    "                                  })\n",
    "\n",
    "# 将字符串解析成图像对应的数组\n",
    "images = tf.decode_raw(features['image_raw'], tf.uint8)\n",
    "label = tf.cast(features['label'], tf.int32)\n",
    "pixels = tf.cast(features['pixels'], tf.int32)\n",
    "\n",
    "sess = tf.Session()\n",
    "coord = tf.train.Coordinator()\n",
    "threads = tf.train.start_queue_runners(sess=sess, coord=coord)\n",
    "\n",
    "for i in range(10):\n",
    "    print(sess.run([label, pixels]))\n",
    "\n",
    "sess.close()"
   ]
  },
  {
   "cell_type": "markdown",
   "metadata": {},
   "source": [
    "> ### 图像编码处理"
   ]
  },
  {
   "cell_type": "code",
   "execution_count": 4,
   "metadata": {},
   "outputs": [
    {
     "name": "stdout",
     "output_type": "stream",
     "text": [
      "(492, 501, 4)\n"
     ]
    },
    {
     "data": {
      "image/png": "[encoded data removed]",
      "text/plain": [
       "<Figure size 432x288 with 1 Axes>"
      ]
     },
     "metadata": {},
     "output_type": "display_data"
    }
   ],
   "source": [
    "import matplotlib.pyplot as mp\n",
    "import tensorflow as tf\n",
    "\n",
    "# 读数据\n",
    "image_raw_data = tf.gfile.FastGFile('./data/picture.png', 'rb').read()\n",
    "# print(image_raw_data.shape)\n",
    "with tf.Session() as sess:\n",
    "    # 解析数据\n",
    "    img_data = tf.image.decode_png(image_raw_data)\n",
    "    print(img_data.eval().shape)\n",
    "    # 显示图像\n",
    "    mp.imshow(img_data.eval())\n",
    "    mp.show()"
   ]
  },
  {
   "cell_type": "markdown",
   "metadata": {},
   "source": [
    "> ### 图像大小resize\n",
    "\n",
    "```python\n",
    "resize_area()\n",
    "resize_bicubic()\n",
    "resize_bilinear()\n",
    "resize_image_with_crop_or_pad()\n",
    "resize_images()\n",
    "resize_nearest_neighbor()\n",
    "```"
   ]
  },
  {
   "cell_type": "code",
   "execution_count": 10,
   "metadata": {},
   "outputs": [
    {
     "name": "stdout",
     "output_type": "stream",
     "text": [
      "old--> (492, 501, 4)\n",
      "new--> (300, 300, 4)\n"
     ]
    },
    {
     "data": {
      "image/png": "[encoded data removed]",
      "text/plain": [
       "<Figure size 432x288 with 1 Axes>"
      ]
     },
     "metadata": {},
     "output_type": "display_data"
    }
   ],
   "source": [
    "import matplotlib.pyplot as mp\n",
    "import tensorflow as tf\n",
    "\n",
    "# 读数据\n",
    "image_raw_data = tf.gfile.FastGFile('./data/picture.png', 'rb').read()\n",
    "# print(image_raw_data.shape)\n",
    "with tf.Session() as sess:\n",
    "    # 解析数据\n",
    "    img_data = tf.image.decode_png(image_raw_data)\n",
    "    print('old-->', img_data.eval().shape)\n",
    "    \n",
    "    # 转成tf的float32格式\n",
    "    img_data = tf.image.convert_image_dtype(img_data, dtype=tf.float32)\n",
    "    img_data = tf.image.resize_images(img_data, [300, 300], method=0)\n",
    "    print('new-->', img_data.eval().shape)\n",
    "    # 显示图像\n",
    "    mp.imshow(img_data.eval())\n",
    "    mp.show()"
   ]
  },
  {
   "cell_type": "markdown",
   "metadata": {},
   "source": [
    "> ### 图像翻转\n",
    "\n",
    "对图像进行**上下，左右，中心**翻转"
   ]
  },
  {
   "cell_type": "code",
   "execution_count": 51,
   "metadata": {},
   "outputs": [
    {
     "data": {
      "image/png": "[encoded data removed]",
      "text/plain": [
       "<Figure size 432x288 with 4 Axes>"
      ]
     },
     "metadata": {},
     "output_type": "display_data"
    }
   ],
   "source": [
    "import matplotlib.pyplot as mp\n",
    "import tensorflow as tf\n",
    "\n",
    "# 读数据\n",
    "image_raw_data = tf.gfile.FastGFile('./data/picture.png', 'rb').read()\n",
    "# print(image_raw_data.shape)\n",
    "with tf.Session() as sess:\n",
    "    # 解析数据\n",
    "    img_data = tf.image.decode_png(image_raw_data)\n",
    "    \n",
    "    # 转成tf的float32格式\n",
    "    img_data = tf.image.convert_image_dtype(img_data, dtype=tf.float32)\n",
    "    \n",
    "    mp.subplot(221)\n",
    "    mp.title('Original')\n",
    "    mp.imshow(img_data.eval())\n",
    "    \n",
    "    mp.subplot(222)\n",
    "    mp.title('Flip left right')\n",
    "    img_data_lr = tf.image.flip_left_right(img_data)\n",
    "    mp.imshow(img_data_lr.eval())\n",
    "    \n",
    "    mp.subplot(223)\n",
    "    mp.title('Flip up down')\n",
    "    img_data_ud = tf.image.flip_up_down(img_data)\n",
    "    mp.imshow(img_data_ud.eval())\n",
    "    \n",
    "    mp.subplot(224)\n",
    "    mp.title('Transpose')\n",
    "    img_data_tr = tf.image.transpose_image(img_data)\n",
    "    mp.imshow(img_data_tr.eval())\n",
    "#     print(img_data_tr.eval())\n",
    "    \n",
    "    mp.tight_layout()\n",
    "    mp.show()"
   ]
  },
  {
   "cell_type": "markdown",
   "metadata": {},
   "source": [
    "> ### 色彩调整\n",
    "\n",
    "调整图像的**亮度，对比度，饱和度，色相**"
   ]
  },
  {
   "cell_type": "markdown",
   "metadata": {},
   "source": [
    "```python\n",
    "# 调整亮度，随机调整亮度\n",
    "tf.image.adjust_brightness()\n",
    "tf.image.random_brightness()\n",
    "\n",
    "# 调整对比度，随机调整对比度\n",
    "tf.image.adjust_contrast()\n",
    "tf.image.random_contrast()\n",
    "\n",
    "# 调整色相\n",
    "tf.image.adjust_hue()\n",
    "tf.image.random_hue()\n",
    "\n",
    "# 调整饱和度\n",
    "tf.image.adjust_saturation()\n",
    "tf.image.random_saturation()\n",
    "\n",
    "# 图像标准化(将图像上的亮度均值变为0，方差变为-1)\n",
    "tf.image.per_image_standardization()\n",
    "\n",
    "# 截断操作,用于将值调整到给定范围\n",
    "tf.clip_by_value()\n",
    "```"
   ]
  },
  {
   "cell_type": "markdown",
   "metadata": {},
   "source": [
    "> ### 处理标注框\n",
    "\n",
    "```python\n",
    "tf.image.draw_bounding_boxes()\n",
    "tf.image.sample_distorted_bounding_box() # 随机截取图像\n",
    "```"
   ]
  },
  {
   "cell_type": "code",
   "execution_count": 69,
   "metadata": {},
   "outputs": [
    {
     "name": "stdout",
     "output_type": "stream",
     "text": [
      "old--> (492, 501, 4)\n",
      "new--> (200, 200, 4)\n",
      "batch--> (1, 200, 200, 4)\n",
      "result--> (1, 200, 200, ?)\n",
      "result--> (200, 200, ?)\n"
     ]
    },
    {
     "data": {
      "image/png": "[encoded data removed]",
      "text/plain": [
       "<Figure size 432x288 with 1 Axes>"
      ]
     },
     "metadata": {},
     "output_type": "display_data"
    }
   ],
   "source": [
    "import matplotlib.pyplot as mp\n",
    "import tensorflow as tf\n",
    "\n",
    "# 读数据\n",
    "image_raw_data = tf.gfile.FastGFile('./data/picture.png', 'rb').read()\n",
    "# print(image_raw_data.shape)\n",
    "with tf.Session() as sess:\n",
    "    # 解析数据\n",
    "    img_data = tf.image.decode_png(image_raw_data)\n",
    "    print('old-->', img_data.eval().shape)\n",
    "    \n",
    "    # 转成tf的float32格式\n",
    "    img_data = tf.image.convert_image_dtype(img_data, dtype=tf.float32)\n",
    "    img_data = tf.image.resize_images(img_data, [200, 200], method=1)\n",
    "    print('new-->', img_data.eval().shape)\n",
    "    batched = tf.expand_dims(tf.image.convert_image_dtype(img_data, tf.float32), 0)\n",
    "    print('batch-->', batched.eval().shape)\n",
    "#     mp.imshow(img_data.eval())\n",
    "    boxes = tf.constant([[[0.05,0.05,0.9,0.7],[0.35,0.47,0.5,0.56]]])\n",
    "    result = tf.image.draw_bounding_boxes(batched, boxes)\n",
    "    print('result-->', result.shape)\n",
    "#     tf.slice(result,)\n",
    "    result = result[0,:,:,:]\n",
    "    print('result-->', result.shape)\n",
    "    # 显示图像\n",
    "#     print(result.eval())\n",
    "    mp.imshow(result.eval())\n",
    "    mp.show()"
   ]
  },
  {
   "cell_type": "markdown",
   "metadata": {},
   "source": [
    "> ### 随机截取图像"
   ]
  },
  {
   "cell_type": "code",
   "execution_count": null,
   "metadata": {},
   "outputs": [],
   "source": [
    "import matplotlib.pyplot as mp\n",
    "import tensorflow as tf\n",
    "\n",
    "# 读数据\n",
    "image_raw_data = tf.gfile.FastGFile('./data/picture.png', 'rb').read()\n",
    "# print(image_raw_data.shape)\n",
    "with tf.Session() as sess:\n",
    "    # 解析数据\n",
    "    img_data = tf.image.decode_png(image_raw_data)\n",
    "    print('old-->', img_data.eval().shape)\n",
    "    \n",
    "    # 转成tf的float32格式\n",
    "    img_data = tf.image.convert_image_dtype(img_data, dtype=tf.float32)\n",
    "    img_data = tf.image.resize_images(img_data, [200, 200], method=1)\n",
    "    print('new-->', img_data.eval().shape)\n",
    "    batched = tf.expand_dims(tf.image.convert_image_dtype(img_data, tf.float32), 0)\n",
    "    print('batch-->', batched.eval().shape)\n",
    "#     mp.imshow(img_data.eval())\n",
    "    boxes = tf.constant([[[0.05,0.05,0.9,0.7],[0.35,0.47,0.5,0.56]]])\n",
    "    result = tf.image.draw_bounding_boxes(batched, boxes)\n",
    "    print('result-->', result.shape)\n",
    "#     tf.slice(result,)\n",
    "    result = result[0,:,:,:]\n",
    "    print('result-->', result.shape)\n",
    "    # 显示图像\n",
    "#     print(result.eval())\n",
    "    mp.imshow(result.eval())\n",
    "    mp.show()"
   ]
  },
  {
   "cell_type": "code",
   "execution_count": 1,
   "metadata": {},
   "outputs": [
    {
     "name": "stdout",
     "output_type": "stream",
     "text": [
      "old--> (237, 257, 4)\n",
      "new--> (300, 300, 4)\n",
      "[30  9  0]\n",
      "[127 164  -1]\n",
      "[[[0.20333333 0.03       0.9766667  0.85      ]]]\n"
     ]
    },
    {
     "data": {
      "image/png": "[encoded data removed]",
      "text/plain": [
       "<Figure size 432x288 with 3 Axes>"
      ]
     },
     "metadata": {},
     "output_type": "display_data"
    }
   ],
   "source": [
    "import matplotlib.pyplot as mp\n",
    "import tensorflow as tf\n",
    "\n",
    "# 读数据\n",
    "image_raw_data = tf.gfile.FastGFile('./data/picture1.png', 'rb').read()\n",
    "# print(image_raw_data.shape)\n",
    "with tf.Session() as sess:\n",
    "    # 解析数据\n",
    "    img_data = tf.image.decode_png(image_raw_data)\n",
    "    print('old-->', img_data.eval().shape)\n",
    "\n",
    "    # 转成tf的float32格式\n",
    "    img_data = tf.image.convert_image_dtype(img_data, dtype=tf.float32)\n",
    "    img_data = tf.image.resize_images(img_data, [300, 300], method=1)\n",
    "    print('new-->', img_data.eval().shape)\n",
    "\n",
    "    # 增加一维到四维，第一维为batch\n",
    "    batched = tf.expand_dims(tf.image.convert_image_dtype(img_data, tf.float32), 0)\n",
    "    # 设定框选区域，即标注有用区域\n",
    "    boxes = tf.constant([[[0.05, 0.05, 0.9, 0.7]]])\n",
    "    ori = tf.image.draw_bounding_boxes(batched, boxes)\n",
    "    mp.subplot(131)\n",
    "    mp.title('Ori')\n",
    "    mp.imshow(ori.eval()[0, ...])\n",
    "\n",
    "    # 随机区域框，要包含上述标注区域的0.4\n",
    "    begin, size, bbox_for_draw = tf.image.sample_distorted_bounding_box(tf.shape(img_data),\n",
    "                                                                        bounding_boxes=boxes,\n",
    "                                                                        min_object_covered=0.4)\n",
    "    image_with_box = tf.image.draw_bounding_boxes(ori, bbox_for_draw)\n",
    "    # 画出选取的区域\n",
    "    mp.subplot(132)\n",
    "    mp.imshow(image_with_box.eval()[0, ...])\n",
    "\n",
    "    # 最终截取区域\n",
    "    distorted_image = tf.slice(img_data, begin, size)\n",
    "    print(begin.eval())\n",
    "    print(size.eval())\n",
    "    print(bbox_for_draw.eval())\n",
    "    mp.subplot(133)\n",
    "    mp.imshow(distorted_image.eval())\n",
    "    mp.show()"
   ]
  },
  {
   "cell_type": "markdown",
   "metadata": {},
   "source": [
    "## 7.2 图像预处理完整样例\n",
    "---\n",
    "```python\n",
    "\n",
    "def distort_color(image, color_ordering=0):\n",
    "    # 设定多个调整亮度，对比度，色相，饱和度的排序，并随机选择一种\n",
    "    # 进行图像调整，最后规范数据范围\n",
    "    pass\n",
    "\n",
    "def preprocess_for_train(image, height, width, bbox):\n",
    "    # 给定图像，输入大小，标注范围\n",
    "    # 对image进行格式调整\n",
    "    # 获取随机框\n",
    "    # 截取随机框\n",
    "    # 按照给定输出大小，对图像进行resize\n",
    "    # 左右，上下resize\n",
    "    # 调用distort_color()进行图像调整\n",
    "    # 返回image\n",
    "    \n",
    "```"
   ]
  },
  {
   "cell_type": "markdown",
   "metadata": {},
   "source": [
    "## 7.3 多线程输入数据处理框架\n",
    "---\n",
    "### 7.3.1 队列及多线程\n",
    "---\n",
    "1. tf中提供了两种队列的实现方式\n",
    "\n",
    "```python\n",
    "tf.FIFOQueue()\n",
    "tf.RandomShuffleQueue()\n",
    "```\n",
    "\n",
    "2. tf中提供了两个类来实现多线程协同的功能。\n",
    "\n",
    "```python\n",
    "tf.train.Coordinator()\n",
    "tf.train.QueueRunner()\n",
    "```"
   ]
  },
  {
   "cell_type": "code",
   "execution_count": 5,
   "metadata": {},
   "outputs": [
    {
     "name": "stdout",
     "output_type": "stream",
     "text": [
      "0\n",
      "10\n",
      "1\n",
      "11\n",
      "2\n"
     ]
    }
   ],
   "source": [
    "# 队列\n",
    "import tensorflow as tf\n",
    "\n",
    "q = tf.FIFOQueue(2, 'int32')\n",
    "init = q.enqueue_many(([0, 10],))\n",
    "x = q.dequeue()\n",
    "y = x + 1\n",
    "q_inc = q.enqueue([y])\n",
    "\n",
    "with tf.Session() as sess:\n",
    "    init.run()\n",
    "    for _ in range(5):\n",
    "        v, _ = sess.run([x, q_inc])\n",
    "        print(v)"
   ]
  },
  {
   "cell_type": "markdown",
   "metadata": {},
   "source": [
    "\n",
    "### 多线程"
   ]
  },
  {
   "cell_type": "markdown",
   "metadata": {},
   "source": [
    "**Coordinator主要用于协同多个线程一起停止**\n",
    "```python\n",
    "# 不要在notebook中执行，\n",
    "import threading\n",
    "import time\n",
    "import tensorflow as tf\n",
    "import numpy as np\n",
    "\n",
    "def func(coor, i):\n",
    "    while not coor.should_stop():\n",
    "        if np.random.rand() < 0.1:\n",
    "            print('Stoping from id : %d\\n' % i)\n",
    "            coor.request_stop()\n",
    "        else:\n",
    "            print('Working on id: %d\\n' % i)\n",
    "        time.sleep(1)\n",
    "\n",
    "coor = tf.train.Coordinator()\n",
    "threads = [threading.Thread(target=func, args=(coor, i)) for i in range(5)]\n",
    "for t in threads:\n",
    "    t.start()\n",
    "coor.join(threads)\n",
    "\n",
    "```"
   ]
  },
  {
   "cell_type": "markdown",
   "metadata": {},
   "source": [
    "**QueueRunner主要用于启动多个线程执行操作同一个队列，启动的这些线程可以通过Coordinator来统一管理**\n",
    "```python\n",
    "import tensorflow as tf\n",
    "\n",
    "# 创建一个先进先出的队列\n",
    "queue = tf.FIFOQueue(10, 'float')\n",
    "\n",
    "# 获取一个随机正太分布的数，执行进队操作。\n",
    "enqueue_op = queue.enqueue([tf.random_normal([1])])\n",
    "\n",
    "# 创建五个线程执行入队操作\n",
    "qr = tf.train.QueueRunner(queue, [enqueue_op] * 5)\n",
    "\n",
    "tf.train.add_queue_runner(qr)\n",
    "\n",
    "# 定义出队操作\n",
    "out_tensor = queue.dequeue()\n",
    "\n",
    "with tf.Session() as sess:\n",
    "    coor = tf.train.Coordinator()\n",
    "    threads = tf.train.start_queue_runners(sess=sess, coord=coor)\n",
    "    for _ in range(3):\n",
    "        print(sess.run(out_tensor))\n",
    "\n",
    "    coor.request_stop()\n",
    "    coor.join(threads)\n",
    "```"
   ]
  },
  {
   "cell_type": "markdown",
   "metadata": {},
   "source": [
    "### 7.3.2 输入文件队列\n",
    "---\n",
    "```python\n",
    "tf.train.match_filenames_once()\n",
    "tf.train.string_input_producer()\n",
    "```\n",
    "> **样例生成**"
   ]
  },
  {
   "cell_type": "code",
   "execution_count": 7,
   "metadata": {},
   "outputs": [
    {
     "name": "stdout",
     "output_type": "stream",
     "text": [
      "ERROR! Session/line number was not unique in database. History logging moved to new session 290\n"
     ]
    }
   ],
   "source": [
    "import tensorflow as tf\n",
    "\n",
    "def _int64_feature(value):\n",
    "    return tf.train.Feature(int64_list=tf.train.Int64List(value=[value]))\n",
    "\n",
    "# 定义文件的个数\n",
    "num_shards = 2\n",
    "\n",
    "# 定义每个文件有多少个数据\n",
    "instance_per_shard = 2\n",
    "\n",
    "for i in range(num_shards):\n",
    "    filename = './tfrecord/data-%.5d-of-%.5d' % (i, num_shards)\n",
    "    writer = tf.python_io.TFRecordWriter(filename)\n",
    "    for j in range(instance_per_shard):\n",
    "        example = tf.train.Example(features=tf.train.Features(feature={\n",
    "            'i': _int64_feature(i),\n",
    "            'j': _int64_feature(j)\n",
    "        }))\n",
    "        writer.write(example.SerializeToString())\n",
    "    writer.close()"
   ]
  },
  {
   "cell_type": "markdown",
   "metadata": {},
   "source": [
    "> **从多个tfrecord读取数据**\n",
    "\n",
    "```python\n",
    "tf.train.match_filenames_once() # 获取文件列表\n",
    "tf.train.string_input_producer() # 创建输入队列\n",
    "```\n",
    "放在队列中的数据如果读完，会从头开始，可以通过设置`num_epochs`属性开限制轮读次数"
   ]
  },
  {
   "cell_type": "code",
   "execution_count": 19,
   "metadata": {},
   "outputs": [
    {
     "name": "stdout",
     "output_type": "stream",
     "text": [
      "[b'.\\\\tfrecord\\\\data-00000-of-00002' b'.\\\\tfrecord\\\\data-00001-of-00002']\n",
      "[0, 0]\n",
      "[0, 1]\n",
      "[1, 0]\n",
      "[1, 1]\n",
      "[0, 0]\n",
      "[0, 1]\n"
     ]
    }
   ],
   "source": [
    "import tensorflow as tf\n",
    "\n",
    "# 获取文件列表,需要初始化\n",
    "files = tf.train.match_filenames_once('./tfrecord/data-*')\n",
    "\n",
    "# 创建输入队列\n",
    "filename_queue = tf.train.string_input_producer(files, shuffle=False)\n",
    "\n",
    "# 创建reader\n",
    "reader = tf.TFRecordReader()\n",
    "\n",
    "# 读取文件列表\n",
    "_, serialized_example = reader.read(filename_queue)\n",
    "\n",
    "# 解析每个feature\n",
    "features = tf.parse_single_example(serialized_example, features={\n",
    "    'i': tf.FixedLenFeature([], tf.int64),\n",
    "    'j': tf.FixedLenFeature([], tf.int64)\n",
    "})\n",
    "\n",
    "with tf.Session() as sess:\n",
    "    tf.local_variables_initializer().run()\n",
    "    \n",
    "    print(sess.run(files))\n",
    "    \n",
    "    coord = tf.train.Coordinator()\n",
    "    threads = tf.train.start_queue_runners(sess=sess, coord=coord)\n",
    "    \n",
    "    for i in range(6):\n",
    "        print(sess.run([features['i'], features['j']]))\n",
    "    \n",
    "    coord.request_stop()\n",
    "    coord.join(threads)"
   ]
  },
  {
   "cell_type": "markdown",
   "metadata": {},
   "source": [
    "### 7.3.3 组合训练数据(batching)\n",
    "---\n",
    "```python\n",
    "tf.train.batch()\n",
    "tf.train.shuffle_batch()\n",
    "```\n",
    "这两个函数都会生成一个队列，队列的入队操作是生成单个样例的方法，而每次出对是一个batch的样例。"
   ]
  },
  {
   "cell_type": "code",
   "execution_count": 1,
   "metadata": {},
   "outputs": [
    {
     "name": "stdout",
     "output_type": "stream",
     "text": [
      "[0 0 1] [0 1 0]\n",
      "[1 0 0] [1 0 1]\n"
     ]
    }
   ],
   "source": [
    "import tensorflow as tf\n",
    "\n",
    "files = tf.train.match_filenames_once('./tfrecord/data-*')\n",
    "filename_queue = tf.train.string_input_producer(files)\n",
    "\n",
    "reader = tf.TFRecordReader()\n",
    "_, serialize_example = reader.read(filename_queue)\n",
    "\n",
    "features = tf.parse_single_example(serialize_example, features={\n",
    "    'i': tf.FixedLenFeature([], tf.int64),\n",
    "    'j': tf.FixedLenFeature([], tf.int64)\n",
    "})\n",
    "\n",
    "example, label = features['i'], features['j']\n",
    "\n",
    "# 定义batch大小，\n",
    "batch_size = 3\n",
    "capacity = 1000 + 3 * batch_size\n",
    "\n",
    "example_batch, label_batch = tf.train.batch([example, label], batch_size=batch_size, capacity=capacity)\n",
    "\n",
    "with tf.Session() as sess:\n",
    "    tf.local_variables_initializer().run()\n",
    "    \n",
    "    coord = tf.train.Coordinator()\n",
    "    threads = tf.train.start_queue_runners(sess=sess, coord=coord)\n",
    "    \n",
    "    # 输出两个batch,共六个数据\n",
    "    for i in range(2):\n",
    "        examples, labels = sess.run([example_batch, label_batch])\n",
    "        print(examples, labels)\n",
    "    \n",
    "    coord.request_stop()\n",
    "    coord.join(threads)"
   ]
  },
  {
   "cell_type": "markdown",
   "metadata": {},
   "source": [
    "### 7.3.4 输入数据处理框架 \n",
    "---"
   ]
  },
  {
   "cell_type": "markdown",
   "metadata": {},
   "source": [
    "## 7.4 Dataset\n",
    "---\n",
    "### 7.4.1 数据集的basic\n",
    "---\n",
    "常用的数据来源有：tensor, TFRecord, txt ...\n",
    "1. 定义数据集的构造方法\n",
    "    - tf.data.Dataset\n",
    "    - tf.data.TextLineDataset\n",
    "    - tf.data.TFRecordDataset\n",
    "2. 定义遍历器\n",
    "3. 使用`get_next()`"
   ]
  },
  {
   "cell_type": "code",
   "execution_count": 3,
   "metadata": {},
   "outputs": [
    {
     "name": "stdout",
     "output_type": "stream",
     "text": [
      "1\n",
      "4\n",
      "9\n",
      "25\n",
      "64\n"
     ]
    }
   ],
   "source": [
    "import tensorflow as tf\n",
    "\n",
    "input_data = [1, 2, 3, 5, 8]\n",
    "\n",
    "dataset = tf.data.Dataset.from_tensor_slices(input_data)\n",
    "\n",
    "iterator = dataset.make_one_shot_iterator()\n",
    "\n",
    "x = iterator.get_next()\n",
    "y = x ** 2\n",
    "\n",
    "with tf.Session() as sess:\n",
    "    for i in range(len(input_data)):\n",
    "        print(sess.run(y))"
   ]
  },
  {
   "cell_type": "markdown",
   "metadata": {},
   "source": [
    "# 8 循环神经网络\n",
    "---\n"
   ]
  },
  {
   "cell_type": "code",
   "execution_count": 1,
   "metadata": {},
   "outputs": [],
   "source": [
    "import numpy as np\n",
    "import tensorflow as tf"
   ]
  },
  {
   "cell_type": "code",
   "execution_count": 5,
   "metadata": {},
   "outputs": [],
   "source": [
    "tf.data.Dataset\n",
    "tf.data.TextLineDataset\n",
    "tf.data.TFRecordDataset"
   ]
  },
  {
   "cell_type": "code",
   "execution_count": 16,
   "metadata": {},
   "outputs": [],
   "source": [
    "sess = tf.InteractiveSession()"
   ]
  },
  {
   "cell_type": "code",
   "execution_count": 7,
   "metadata": {},
   "outputs": [],
   "source": [
    "import tensorflow as tf"
   ]
  },
  {
   "cell_type": "code",
   "execution_count": 17,
   "metadata": {},
   "outputs": [],
   "source": [
    "indices = tf.expand_dims(tf.range(0, 10, 1), 1)"
   ]
  },
  {
   "cell_type": "code",
   "execution_count": 18,
   "metadata": {
    "scrolled": true
   },
   "outputs": [
    {
     "data": {
      "text/plain": [
       "array([[0],\n",
       "       [1],\n",
       "       [2],\n",
       "       [3],\n",
       "       [4],\n",
       "       [5],\n",
       "       [6],\n",
       "       [7],\n",
       "       [8],\n",
       "       [9]])"
      ]
     },
     "execution_count": 18,
     "metadata": {},
     "output_type": "execute_result"
    }
   ],
   "source": [
    "sess.run(indices)"
   ]
  },
  {
   "cell_type": "code",
   "execution_count": 19,
   "metadata": {},
   "outputs": [],
   "source": [
    "tf.sparse_to_dense?"
   ]
  },
  {
   "cell_type": "code",
   "execution_count": null,
   "metadata": {},
   "outputs": [],
   "source": []
  }
 ],
 "metadata": {
  "kernelspec": {
   "display_name": "Python [conda env:tensorflow]",
   "language": "python",
   "name": "conda-env-tensorflow-py"
  },
  "language_info": {
   "codemirror_mode": {
    "name": "ipython",
    "version": 3
   },
   "file_extension": ".py",
   "mimetype": "text/x-python",
   "name": "python",
   "nbconvert_exporter": "python",
   "pygments_lexer": "ipython3",
   "version": "3.6.2"
  }
 },
 "nbformat": 4,
 "nbformat_minor": 2
}
