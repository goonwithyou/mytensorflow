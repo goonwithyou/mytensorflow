{
 "cells": [
  {
   "cell_type": "markdown",
   "metadata": {},
   "source": [
    "# tensorflow技术解析与实践 李佳璇\n",
    "---"
   ]
  },
  {
   "cell_type": "markdown",
   "metadata": {},
   "source": [
    "# 4 basic\n",
    "---\n",
    "> ## 数据标准化处理\n",
    "常用在激活函数处理之前，把数据变成均值为0，方差为1.\n",
    "\n",
    "```python\n",
    "# 计算平均值和方差\n",
    "mean, variance = tf.nn.moments(x, axes, shift=None, name=None, keep_dims=False)\n",
    "\n",
    "# 标准化处理\n",
    "tf.nn.batch_normalization(x, mean, variance, offset, scale, variance_epsilon, name=None)\n",
    "```\n",
    "**eg:**\n",
    "```python\n",
    "\n",
    "```\n",
    "> ## 激活函数\n",
    "\n",
    "1. 当输入**数据特征相差明显**时，用**tanh**的效果会很好。在循环的过程中会不断的扩大特征效果。\n",
    "2. 当特征相差**不明显**时**sigmoid**效果比较好\n",
    "3. 从sigmoid和tanh的**函数分布**可以发现，过大的输入会造成输出平缓，不利于梯度下降，所以在进行激活函数前要进行**数据标准化**处理。\n",
    "4. relu相对较好，大部分神经网络的激活函数会使用relu。\n",
    "\n",
    "```python\n",
    "# 常用的激活函数\n",
    "tf.nn.relu()\n",
    "tf.nn.sigmoid()\n",
    "tf.nn.tanh()\n",
    "tf.nn.dropout()\n",
    "tf.nn.elu()\n",
    "tf.nn.crelu()\n",
    "tf.nn.relu6()\n",
    "tf.nn.bias_add()\n",
    "tf.nn.softplus()\n",
    "tf.nn.softsign()\n",
    "```\n",
    "\n",
    "> ## 卷积函数\n",
    "\n",
    "```python\n",
    "# 计算N维卷积的和\n",
    "tf.nn.convolution()\n",
    "\n",
    "# 对四维输入数据和四维卷积核进行操作\n",
    "tf.nn.conv2d()\n",
    "\n",
    "# \n",
    "tf.nn.depthwise_conv2d()\n",
    "\n",
    "# 利用几个分离的卷积核去做卷积\n",
    "tf.nn.separable_conv2d()\n",
    "\n",
    "# 计算Atrous卷积，孔卷积，扩张卷积\n",
    "tf.nn.atrous_conv2d\n",
    "\n",
    "# 反卷积\n",
    "tf.nn.conv2d_transpose()\n",
    "\n",
    "# 三维输入\n",
    "tf.nn.conv1d()\n",
    "\n",
    "# 五维输入\n",
    "tf.nn.conv3d()\n",
    "\n",
    "```\n",
    "\n",
    "> ## 池化\n",
    "\n",
    "```python\n",
    "tf.nn.avg_pool()\n",
    "tf.nn.max_pool()\n",
    "tf.nn.max_pool_with_argmax()\n",
    "tf.nn.avg_pool3d()\n",
    "tf.nn.fractional_max_pool()\n",
    "tf.nn.fractional_avg_pool()\n",
    "tf.nn.pool()\n",
    "```\n",
    "\n",
    "> ## 分类函数\n",
    "\n",
    "```python\n",
    "tf.nn.sigmoid_cross_entropy_with_logits()\n",
    "tf.nn.softmax()\n",
    "tf.nn.log_softmax()\n",
    "tf.nn.softmax_cross_entropy_with_logits()\n",
    "tf.nn.sparse_softmax_cross_entropy_with_logits()\n",
    "```\n",
    "> ## 优化方法-梯度下降\n",
    "\n",
    "```python\n",
    "tf.train.GradientDescentOptimizer()\n",
    "tf.train.AdadeltaOptimizer()\n",
    "tf.train.AdagradDAOptimizer()\n",
    "tf.train.AdagradOptimizer\n",
    "tf.train.AdamOptimizer()\n",
    "tf.train.MomentumOptimizer()\n",
    "tf.train.FtrlOptimizer()\n",
    "tf.train.RMSPropOptimizer()\n",
    "```"
   ]
  },
  {
   "cell_type": "markdown",
   "metadata": {},
   "source": [
    "> ## AlexNet for mnist\n",
    "\n",
    "AlexNet的主要突破：\n",
    "- 使用relu\n",
    "- 增加dropout\n",
    "- 双gpu计算\n",
    "\n",
    "这里实现一个relu和dropout的mnist。"
   ]
  },
  {
   "cell_type": "code",
   "execution_count": 5,
   "metadata": {},
   "outputs": [],
   "source": [
    "tf.train.GradientDescentOptimizer()\n",
    "tf.train.AdadeltaOptimizer()\n",
    "tf.train.AdagradDAOptimizer()\n",
    "tf.train.AdagradOptimizer\n",
    "tf.train.AdamOptimizer()\n",
    "tf.train.MomentumOptimizer()\n",
    "tf.train.FtrlOptimizer()\n",
    "tf.train.RMSPropOptimizer()"
   ]
  },
  {
   "cell_type": "code",
   "execution_count": 70,
   "metadata": {
    "scrolled": false
   },
   "outputs": [
    {
     "name": "stdout",
     "output_type": "stream",
     "text": [
      "Extracting D:/softfiles/workspace/data/tensorflow/data/train-images-idx3-ubyte.gz\n",
      "Extracting D:/softfiles/workspace/data/tensorflow/data/train-labels-idx1-ubyte.gz\n",
      "Extracting D:/softfiles/workspace/data/tensorflow/data/t10k-images-idx3-ubyte.gz\n",
      "Extracting D:/softfiles/workspace/data/tensorflow/data/t10k-labels-idx1-ubyte.gz\n"
     ]
    }
   ],
   "source": [
    "mnist = input_data.read_data_sets('D:/softfiles/workspace/data/tensorflow/data/', one_hot=True)"
   ]
  },
  {
   "cell_type": "markdown",
   "metadata": {},
   "source": [
    "## 自编码网络"
   ]
  },
  {
   "cell_type": "code",
   "execution_count": 73,
   "metadata": {
    "collapsed": true
   },
   "outputs": [
    {
     "name": "stdout",
     "output_type": "stream",
     "text": [
      "Extracting D:/softfiles/workspace/data/tensorflow/data/train-images-idx3-ubyte.gz\n",
      "Extracting D:/softfiles/workspace/data/tensorflow/data/train-labels-idx1-ubyte.gz\n",
      "Extracting D:/softfiles/workspace/data/tensorflow/data/t10k-images-idx3-ubyte.gz\n",
      "Extracting D:/softfiles/workspace/data/tensorflow/data/t10k-labels-idx1-ubyte.gz\n",
      "Epoch:01, cost=0.210136607\n",
      "Epoch:02, cost=0.178893641\n",
      "Epoch:03, cost=0.152304083\n",
      "Epoch:04, cost=0.144692153\n",
      "Epoch:05, cost=0.135717347\n",
      "Epoch:06, cost=0.130914450\n",
      "Epoch:07, cost=0.130694896\n",
      "Epoch:08, cost=0.121630162\n",
      "Epoch:09, cost=0.119201347\n",
      "Epoch:10, cost=0.112282075\n",
      "Epoch:11, cost=0.109249271\n",
      "Epoch:12, cost=0.106748708\n",
      "Epoch:13, cost=0.109525174\n",
      "Epoch:14, cost=0.106132858\n",
      "Epoch:15, cost=0.102926485\n",
      "Epoch:16, cost=0.099812955\n",
      "Epoch:17, cost=0.098618865\n",
      "Epoch:18, cost=0.097086214\n",
      "Epoch:19, cost=0.095529631\n",
      "Epoch:20, cost=0.094088137\n"
     ]
    }
   ],
   "source": [
    "import tensorflow as tf\n",
    "import numpy as np\n",
    "from tensorflow.examples.tutorials.mnist import input_data\n",
    "import matplotlib.pyplot as mp\n",
    "\n",
    "learning_rate = 0.01\n",
    "training_epochs = 20\n",
    "batch_size = 256\n",
    "display_step = 1\n",
    "\n",
    "examples_to_show = 10\n",
    "\n",
    "n_input = 28 * 28\n",
    "n_hidden_1 = 256\n",
    "n_hidden_2 = 128\n",
    "\n",
    "X = tf.placeholder('float', [None, n_input])\n",
    "\n",
    "weights = {\n",
    "    'encoder_h1': tf.Variable(tf.random_normal([n_input, n_hidden_1])),\n",
    "    'encoder_h2': tf.Variable(tf.random_normal([n_hidden_1, n_hidden_2])),\n",
    "    'decoder_h1': tf.Variable(tf.random_normal([n_hidden_2, n_hidden_1])),\n",
    "    'decoder_h2': tf.Variable(tf.random_normal([n_hidden_1, n_input])),\n",
    "}\n",
    "\n",
    "biases = {\n",
    "    'encoder_b1': tf.Variable(tf.random_normal([n_hidden_1])),\n",
    "    'encoder_b2': tf.Variable(tf.random_normal([n_hidden_2])),\n",
    "    'decoder_b1': tf.Variable(tf.random_normal([n_hidden_1])),\n",
    "    'decoder_b2': tf.Variable(tf.random_normal([n_input])),\n",
    "}\n",
    "\n",
    "def encoder(x):\n",
    "    layer_1 = tf.nn.sigmoid(tf.nn.bias_add(tf.matmul(x, weights['encoder_h1']), biases['encoder_b1']))\n",
    "    layer_2 = tf.nn.sigmoid(tf.nn.bias_add(tf.matmul(layer_1, weights['encoder_h2']), biases['encoder_b2']))\n",
    "    return layer_2\n",
    "\n",
    "def decoder(x):\n",
    "    layer_1 = tf.nn.sigmoid(tf.nn.bias_add(tf.matmul(x, weights['decoder_h1']), biases['decoder_b1']))\n",
    "    layer_2 = tf.nn.sigmoid(tf.nn.bias_add(tf.matmul(layer_1, weights['decoder_h2']), biases['decoder_b2']))\n",
    "    return layer_2\n",
    "\n",
    "encoder_op = encoder(X)\n",
    "decoder_op = decoder(encoder_op)\n",
    "\n",
    "y_pred = decoder_op\n",
    "y_true = X\n",
    "\n",
    "cost = tf.reduce_mean(tf.pow(y_true - y_pred, 2))\n",
    "optimizer = tf.train.RMSPropOptimizer(learning_rate).minimize(cost)\n",
    "\n",
    "with tf.Session() as sess:\n",
    "    tf.global_variables_initializer().run()\n",
    "    \n",
    "    mnist = input_data.read_data_sets('D:/softfiles/workspace/data/tensorflow/data/', one_hot=True)\n",
    "    \n",
    "    total_batch = int(mnist.train.num_examples / batch_size)\n",
    "    \n",
    "    for epoch in range(training_epochs):\n",
    "        for i in range(total_batch):\n",
    "            batch_xs, batch_ys = mnist.train.next_batch(batch_size)\n",
    "            _, c = sess.run([optimizer, cost], feed_dict={X: batch_xs})\n",
    "        if epoch % display_step == 0:\n",
    "            print('Epoch:{:02d}, cost={:.9f}'.format(epoch+1, c))\n",
    "            \n",
    "    encoder_decoder = sess.run([y_pred], feed_dict={X: mnist.test.images[:examples_to_show]})\n",
    "    \n"
   ]
  },
  {
   "cell_type": "code",
   "execution_count": 103,
   "metadata": {},
   "outputs": [
    {
     "name": "stderr",
     "output_type": "stream",
     "text": [
      "D:\\softfiles\\programs\\anaconda3\\envs\\tensorflow\\lib\\site-packages\\matplotlib\\figure.py:459: UserWarning: matplotlib is currently using a non-GUI backend, so cannot show the figure\n",
      "  \"matplotlib is currently using a non-GUI backend, \"\n"
     ]
    },
    {
     "data": {
      "image/png": "[encoded data removed]",
      "text/plain": [
       "<Figure size 720x144 with 20 Axes>"
      ]
     },
     "metadata": {},
     "output_type": "display_data"
    }
   ],
   "source": [
    "f, a = mp.subplots(2, 10, figsize=(10, 2))\n",
    "for i in range(examples_to_show):\n",
    "    a[0][i].imshow(np.reshape(mnist.test.images[i], (28, 28)))\n",
    "    a[1][i].imshow(np.reshape(encoder_decoder[0][i], (28, 28)))\n",
    "    a[0][i].set_axis_off()\n",
    "    a[1][i].set_axis_off()\n",
    "f.show()\n",
    "# mp.draw()\n",
    "# mp.waitfo\\buttonpress()"
   ]
  }
 ],
 "metadata": {
  "kernelspec": {
   "display_name": "Python [conda env:tensorflow]",
   "language": "python",
   "name": "conda-env-tensorflow-py"
  },
  "language_info": {
   "codemirror_mode": {
    "name": "ipython",
    "version": 3
   },
   "file_extension": ".py",
   "mimetype": "text/x-python",
   "name": "python",
   "nbconvert_exporter": "python",
   "pygments_lexer": "ipython3",
   "version": "3.6.2"
  }
 },
 "nbformat": 4,
 "nbformat_minor": 2
}
