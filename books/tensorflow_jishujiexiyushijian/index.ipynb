{
 "cells": [
  {
   "cell_type": "markdown",
   "metadata": {},
   "source": [
    "# tensorflow技术解析与实践 李佳璇\n",
    "---"
   ]
  },
  {
   "cell_type": "code",
   "execution_count": 3,
   "metadata": {},
   "outputs": [],
   "source": [
    "import tensorflow as tf"
   ]
  },
  {
   "cell_type": "code",
   "execution_count": 4,
   "metadata": {},
   "outputs": [],
   "source": [
    "tf.nn.moments?"
   ]
  },
  {
   "cell_type": "markdown",
   "metadata": {},
   "source": [
    "# 4 basic\n",
    "---\n",
    "> ## 数据标准化处理\n",
    "常用在激活函数处理之前，把数据变成均值为0，方差为1.\n",
    "\n",
    "```python\n",
    "# 计算平均值和方差\n",
    "mean, variance = tf.nn.moments(x, axes, shift=None, name=None, keep_dims=False)\n",
    "\n",
    "# 标准化处理\n",
    "tf.nn.batch_normalization(x, mean, variance, offset, scale, variance_epsilon, name=None)\n",
    "```\n",
    "**eg:**\n",
    "```python\n",
    "\n",
    "```\n",
    "> ## 激活函数\n",
    "\n",
    "1. 当输入**数据特征相差明显**时，用**tanh**的效果会很好。在循环的过程中会不断的扩大特征效果。\n",
    "2. 当特征相差**不明显**时**sigmoid**效果比较好\n",
    "3. 从sigmoid和tanh的**函数分布**可以发现，过大的输入会造成输出平缓，不利于梯度下降，所以在进行激活函数前要进行**数据标准化**处理。\n",
    "4. relu相对较好，大部分神经网络的激活函数会使用relu。\n",
    "\n",
    "```python\n",
    "# 常用的激活函数\n",
    "tf.nn.relu()\n",
    "tf.nn.sigmoid()\n",
    "tf.nn.tanh()\n",
    "tf.nn.dropout()\n",
    "tf.nn.elu()\n",
    "tf.nn.crelu()\n",
    "tf.nn.relu6()\n",
    "tf.nn.bias_add()\n",
    "tf.nn.softplus()\n",
    "tf.nn.softsign()\n",
    "```\n",
    "\n",
    "> ## 卷积函数\n",
    "\n",
    "```python\n",
    "# 计算N维卷积的和\n",
    "tf.nn.convolution()\n",
    "\n",
    "# 对四维输入数据和四维卷积核进行操作\n",
    "tf.nn.conv2d()\n",
    "\n",
    "# \n",
    "tf.nn.depthwise_conv2d()\n",
    "\n",
    "# 利用几个分离的卷积核去做卷积\n",
    "tf.nn.separable_conv2d()\n",
    "\n",
    "# 计算Atrous卷积，孔卷积，扩张卷积\n",
    "tf.nn.atrous_conv2d\n",
    "\n",
    "# 反卷积\n",
    "tf.nn.conv2d_transpose()\n",
    "\n",
    "# 三维输入\n",
    "tf.nn.conv1d()\n",
    "\n",
    "# 五维输入\n",
    "tf.nn.conv3d()\n",
    "\n",
    "```\n",
    "\n",
    "> ## 池化\n",
    "\n",
    "```python\n",
    "tf.nn.avg_pool()\n",
    "tf.nn.max_pool()\n",
    "tf.nn.max_pool_with_argmax()\n",
    "tf.nn.avg_pool3d()\n",
    "tf.nn.fractional_max_pool()\n",
    "tf.nn.fractional_avg_pool()\n",
    "tf.nn.pool()\n",
    "```\n",
    "\n",
    "> ## 分类函数\n",
    "\n",
    "```python\n",
    "tf.nn.sigmoid_cross_entropy_with_logits()\n",
    "tf.nn.softmax()\n",
    "tf.nn.log_softmax()\n",
    "tf.nn.softmax_cross_entropy_with_logits()\n",
    "tf.nn.sparse_softmax_cross_entropy_with_logits()\n",
    "```\n",
    "> ## 优化方法-梯度下降\n",
    "\n",
    "```python\n",
    "tf.train.GradientDescentOptimizer()\n",
    "tf.train.AdadeltaOptimizer()\n",
    "tf.train.AdagradDAOptimizer()\n",
    "tf.train.AdagradOptimizer\n",
    "tf.train.AdamOptimizer()\n",
    "tf.train.MomentumOptimizer()\n",
    "tf.train.FtrlOptimizer()\n",
    "tf.train.RMSPropOptimizer()\n",
    "```"
   ]
  },
  {
   "cell_type": "markdown",
   "metadata": {},
   "source": [
    "> ## AlexNet for mnist\n",
    "\n",
    "AlexNet的主要突破：\n",
    "- 使用relu\n",
    "- 增加dropout\n",
    "- 双gpu计算\n",
    "\n",
    "这里实现一个relu和dropout的mnist。"
   ]
  },
  {
   "cell_type": "code",
   "execution_count": 5,
   "metadata": {},
   "outputs": [],
   "source": [
    "tf.train.GradientDescentOptimizer()\n",
    "tf.train.AdadeltaOptimizer()\n",
    "tf.train.AdagradDAOptimizer()\n",
    "tf.train.AdagradOptimizer\n",
    "tf.train.AdamOptimizer()\n",
    "tf.train.MomentumOptimizer()\n",
    "tf.train.FtrlOptimizer()\n",
    "tf.train.RMSPropOptimizer()"
   ]
  },
  {
   "cell_type": "code",
   "execution_count": 1,
   "metadata": {},
   "outputs": [],
   "source": [
    "import numpy as np\n"
   ]
  },
  {
   "cell_type": "code",
   "execution_count": 4,
   "metadata": {},
   "outputs": [],
   "source": [
    "from tensorflow.examples.tutorials.mnist import input_data"
   ]
  },
  {
   "cell_type": "code",
   "execution_count": 6,
   "metadata": {},
   "outputs": [
    {
     "name": "stdout",
     "output_type": "stream",
     "text": [
      "Extracting D:/softfiles/workspace/data/tensorflow/data/train-images-idx3-ubyte.gz\n",
      "Extracting D:/softfiles/workspace/data/tensorflow/data/train-labels-idx1-ubyte.gz\n",
      "Extracting D:/softfiles/workspace/data/tensorflow/data/t10k-images-idx3-ubyte.gz\n",
      "Extracting D:/softfiles/workspace/data/tensorflow/data/t10k-labels-idx1-ubyte.gz\n"
     ]
    }
   ],
   "source": [
    "mnist = input_data.read_data_sets('D:/softfiles/workspace/data/tensorflow/data/', one_hot=True)"
   ]
  },
  {
   "cell_type": "code",
   "execution_count": 10,
   "metadata": {},
   "outputs": [
    {
     "data": {
      "text/plain": [
       "(10000, 10)"
      ]
     },
     "execution_count": 10,
     "metadata": {},
     "output_type": "execute_result"
    }
   ],
   "source": [
    "mnist.test.labels.shape"
   ]
  },
  {
   "cell_type": "code",
   "execution_count": null,
   "metadata": {},
   "outputs": [],
   "source": []
  }
 ],
 "metadata": {
  "kernelspec": {
   "display_name": "Python [conda env:tensorflow]",
   "language": "python",
   "name": "conda-env-tensorflow-py"
  },
  "language_info": {
   "codemirror_mode": {
    "name": "ipython",
    "version": 3
   },
   "file_extension": ".py",
   "mimetype": "text/x-python",
   "name": "python",
   "nbconvert_exporter": "python",
   "pygments_lexer": "ipython3",
   "version": "3.6.2"
  }
 },
 "nbformat": 4,
 "nbformat_minor": 2
}
